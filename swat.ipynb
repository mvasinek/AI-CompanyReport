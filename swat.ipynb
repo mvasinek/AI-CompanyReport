{
 "cells": [
  {
   "cell_type": "code",
   "execution_count": 1,
   "metadata": {},
   "outputs": [],
   "source": [
    "from dotenv import load_dotenv\n",
    "\n",
    "_ = load_dotenv()"
   ]
  },
  {
   "cell_type": "code",
   "execution_count": 2,
   "metadata": {},
   "outputs": [],
   "source": [
    "from langgraph.graph import StateGraph, END\n",
    "from typing import TypedDict, Annotated, List\n",
    "import operator\n",
    "from langgraph.checkpoint.sqlite import SqliteSaver\n",
    "from langchain_core.messages import AnyMessage, SystemMessage, HumanMessage, AIMessage, ChatMessage\n",
    "\n",
    "memory = SqliteSaver.from_conn_string(\":memory:\")"
   ]
  },
  {
   "cell_type": "code",
   "execution_count": 3,
   "metadata": {},
   "outputs": [],
   "source": [
    "import os\n",
    "from langchain_openai import ChatOpenAI\n",
    "model = ChatOpenAI(model=\"gpt-4o\", temperature=0, openai_api_key=os.environ[\"OPENAI_PRIVATE_API_KEY\"])"
   ]
  },
  {
   "cell_type": "code",
   "execution_count": 4,
   "metadata": {},
   "outputs": [],
   "source": [
    "class AgentState(TypedDict):\n",
    "    task: str\n",
    "    plan: str\n",
    "    plan_critique: str\n",
    "    plan_revision_number: int\n",
    "    plan_max_revisions: int\n",
    "\n",
    "    sections: List[str]\n",
    "\n",
    "    research_critique: List[str]\n",
    "    research_revision_number: int\n",
    "    research_max_revisions: int\n",
    "\n",
    "    content: List[str]\n",
    "\n",
    "    draft: List[str]\n",
    "    draft_critique: List[str]\n",
    "    draft_revision_number: int\n",
    "    draft_max_revisions: int\n",
    "\n",
    "    css: str\n",
    "    html: str\n"
   ]
  },
  {
   "cell_type": "code",
   "execution_count": 5,
   "metadata": {},
   "outputs": [],
   "source": [
    "PLAN_PROMPT = \"\"\"Jsi expertem na analýzu a popis společností, firem či organizací a máš za úkol napsat \\\n",
    "    vysokoúrovňový plán odborného reportu popisujícího zadanou společnost. Uveď plán reportu spolu \\\n",
    "    s příslušnými poznámkami a pokyny pro jednotlivé sekce a podsekce. Tak, aby uživatel tohoto reportu \\\n",
    "    obdržel celkový obraz o firmě. \\\n",
    "    \n",
    "    Pokud uživatel poskytne kritiku plánu, odpověz upravenou verzí plánu, která zohlední jeho připomínky. \\\n",
    "    Připomínky: \\\n",
    "\n",
    "    {plan_critique}\n",
    "    \"\"\""
   ]
  },
  {
   "cell_type": "code",
   "execution_count": 6,
   "metadata": {},
   "outputs": [],
   "source": [
    "PLAN_CRITIQUE_PROMPT = \"\"\"Jsi manažerem společnosti, zkontroluj, že plán reportu obsahuje všechny potřebné \\\n",
    "    informace o firmě a je dostatečně srozumitelný. Pokud něco chybí nebo je nesrozumitelné, uveď chybějící \\\n",
    "    nebo nesrozumitelné části a navrhni, jak by se měly upravit. \\\n",
    "    \n",
    "    Plán reportu: \\\n",
    "    {plan}\"\"\""
   ]
  },
  {
   "cell_type": "code",
   "execution_count": 7,
   "metadata": {},
   "outputs": [],
   "source": [
    "RESEARCH_PLAN_PROMPT_OBSOLETE = \"\"\"Jsi specialista na informační průzkum. Tvým úkolem je efektivně prohledávat \\\n",
    "    internet a tvořit dotazy, které pokryjí co největší množství relevantních informací k plánu reportu o firmě {task}. \\\n",
    "    S následujícím plánem reportu: \\\n",
    "    {plan} \\\n",
    "    Vygeneruj seznam vyhledávacích dotazů, které shromáždí relevantní informace. \\\n",
    "    Vygeneruj nejvýše 5 dotazů.\\\n",
    "    \n",
    "    Pokud uživatel poskytne kritiku na nedostatek informací, odpověz upravenou verzí plánu, která zohlední jeho připomínky. \\\n",
    "    \n",
    "    Připomínky: \\\n",
    "    {research_critique}\n",
    "    \"\"\""
   ]
  },
  {
   "cell_type": "code",
   "execution_count": 8,
   "metadata": {},
   "outputs": [],
   "source": [
    "RESEARCH_PLAN_PROMPT = \"\"\"Jsi specialista na informační průzkum. Tvým úkolem je efektivně prohledávat \\\n",
    "    internet a tvořit dotazy, které pokryjí co největší množství relevantních informací k zadané sekci plánu reportu o firmě {task}. \\\n",
    "    \n",
    "    Plán reportu: \\\n",
    "    {plan} \\\n",
    "\n",
    "    Zpracovávaná sekce reportu: \\\n",
    "    {section} \\\n",
    "    \n",
    "    Vygeneruj seznam vyhledávacích dotazů, které shromáždí relevantní informace. \\\n",
    "    Vygeneruj nejvýše 3 dotazy.\\\n",
    "    \n",
    "    Pokud uživatel poskytne kritiku na nedostatek informací, odpověz upravenými dotazy, která zohlední jeho připomínky. \\\n",
    "    \n",
    "    Připomínky: \\\n",
    "    {research_critique}\n",
    "    \"\"\""
   ]
  },
  {
   "cell_type": "code",
   "execution_count": 9,
   "metadata": {},
   "outputs": [],
   "source": [
    "RESEARCH_CRITIQUE_PROMPT = \"\"\"Jsi manažerem společnosti, zkontroluj, že pro zadaný plán reportu a konkrétní zpracovávanou sekci, \\\n",
    "    byly nalezeny všechny potřebné informace. Pokud něco chybí, pak uveď chybějící části a navrhni informace, \\\n",
    "    které by se měly vyhledat. \\\n",
    "    \n",
    "    Plán reportu: \\\n",
    "    {plan}\n",
    "\n",
    "    Zpracovávaná sekce reportu: \\\n",
    "    {section}\n",
    "    \n",
    "    Vyhledané informace: \\\n",
    "    {research}\n",
    "    \"\"\""
   ]
  },
  {
   "cell_type": "code",
   "execution_count": 10,
   "metadata": {},
   "outputs": [],
   "source": [
    "WRITER_PROMPT = \"\"\"Jsi expertem na psaní odborných textů. Tvým úkolem je v několika odstavcích napsat sekci odborného reportu o firmě {task}. \\\n",
    "    Sekce reportu by měla obsahovat všechny informace z plánu reportu a informace získané z internetu. \\\n",
    "    Sekce reportu by měla být srozumitelná a obsahovat všechny potřebné informace. \\\n",
    "    Každá sekce reportu by měla končit seznam odkazů, ze kterých bylo čerpáno. \\\n",
    "    \n",
    "    Pokud uživatel poskytne kritiku na nedostatek informací, odpověz upravenou verzí reportu, která zohlední jeho připomínky. \\\n",
    "    \n",
    "    Připomínky: \\\n",
    "    {draft_critique}\n",
    "\n",
    "    Plán reportu: \\\n",
    "    {plan}\n",
    "\n",
    "    Zpraovávaná sekce reportu: \\\n",
    "    {section}\n",
    "\n",
    "    Vyhledané informace: \\\n",
    "    {research}\n",
    "    \"\"\""
   ]
  },
  {
   "cell_type": "code",
   "execution_count": 11,
   "metadata": {},
   "outputs": [],
   "source": [
    "WRITER_CRITIQUE_PROMPT = \"\"\"Jsi manažerem společnosti, zkontroluj, že report obsahuje všechny potřebné informace o firmě {task} \\\n",
    "    a je dostatečně srozumitelný. Pokud něco chybí nebo je nesrozumitelné, uveď chybějící nebo nesrozumitelné části \\\n",
    "    a navrhni, jak by se měly upravit. \\\n",
    "    \n",
    "    Report: \\\n",
    "    {draft}\n",
    "\n",
    "    Plán reportu: \\\n",
    "    {plan}\n",
    "    \"\"\""
   ]
  },
  {
   "cell_type": "code",
   "execution_count": 12,
   "metadata": {},
   "outputs": [],
   "source": [
    "CSS_PROMPT = \"\"\"Jsi expertem na tvorbu webových stránek a kaskádových stylů a máš za úkol vytvořit CSS styl pro webovou stránku, \\\n",
    "    která bude zobrazovat report o firmě {task} na základě plánu reportu. Uveď CSS styl, který bude použit pro webovou stránku. \\\n",
    "\n",
    "    Plán reportu: \\\n",
    "    {plan}\n",
    "\"\"\""
   ]
  },
  {
   "cell_type": "code",
   "execution_count": 13,
   "metadata": {},
   "outputs": [],
   "source": [
    "HTML_SECTION_GENERATOR_PROMPT = \"\"\"Jsi expertem na tvorbu webových stránek, který má za úkol vytvořit HTML kód pro jednu konkrétní sekci plánu reportu pro popis firmy {task}. \\\n",
    "    Vygeneruj HTML kód vybrané sekce včetně odkazů na zdroje, kde čeština bude kódována v utf8, který zobrazí text sekce prohlížeči. \\\n",
    "    Tvým úkolem není vytvořit celý HTML dokument, ale pouze jeden kontejner obsahující konkrétní sekci. \\\n",
    "    Jako styl použij CSS styl uvedený níže, který byl vytvořen pro tento článek.\\\n",
    "\n",
    "    Text sekce: \\\n",
    "    {draft}\n",
    "\n",
    "    CSS styl: \\\n",
    "    {css}\n",
    "\"\"\""
   ]
  },
  {
   "cell_type": "code",
   "execution_count": 14,
   "metadata": {},
   "outputs": [],
   "source": [
    "HTML_GENERATOR_PROMPT = \"\"\"Jsi expertem na tvorbu webových stránek, který má za úkol vytvořit HTML verzi popisu firmy {task}. \\\n",
    "    Vygeneruj HTML kód, kde čeština bude kódována v utf8, jehož cílem bude zobrazit popips firmy na základě plánu reportu. \\\n",
    "    Na základě plánu reportu mi vygeneruj v HTML speciální značku pro komentář <!--section_id--> , kde id bude číselné označení sekce. \\    \n",
    "    Tuto speciální značku následně použiji pro nahrazení konkrétním obsahem sekce. \\\n",
    "    Do těla HTML doplň pouze pod sebe tyto speciální značky a nevkládej žádný další obsah, tagy ani nic jiného. \\\n",
    "    Jako styl použij CSS styl, který byl vytvořen pro tento článek. Daný styl zahrň jako součást webové stránky.\\\n",
    "    \n",
    "    Speciální značka: \\\n",
    "    <!--section_id-->\n",
    "\n",
    "    Plán reportu: \\\n",
    "    {plan}\n",
    "\n",
    "    CSS styl: \\\n",
    "    {css}\n",
    "\"\"\""
   ]
  },
  {
   "cell_type": "code",
   "execution_count": 15,
   "metadata": {},
   "outputs": [],
   "source": [
    "from langchain_core.pydantic_v1 import BaseModel\n",
    "\n",
    "class Queries(BaseModel):\n",
    "    queries: List[str]\n",
    "\n",
    "class Sections(BaseModel):\n",
    "    sections: List[str]"
   ]
  },
  {
   "cell_type": "code",
   "execution_count": 16,
   "metadata": {},
   "outputs": [],
   "source": [
    "from tavily import TavilyClient\n",
    "import os\n",
    "tavily = TavilyClient(api_key=os.environ[\"TAVILY_API_KEY\"])"
   ]
  },
  {
   "cell_type": "code",
   "execution_count": 17,
   "metadata": {},
   "outputs": [],
   "source": [
    "def plan_node_obsolete(state: AgentState):\n",
    "    messages = [\n",
    "        SystemMessage(content=PLAN_PROMPT.format(plan_critique=state[\"plan_critique\"])), \n",
    "        HumanMessage(content=\"Vytvoř plán reportu popisujícího společnost.\"),\n",
    "    ]\n",
    "    response = model.invoke(messages)\n",
    "    return {\"plan\": response.content}\n",
    "\n",
    "def plan_node(state: AgentState):\n",
    "    messages = [\n",
    "        SystemMessage(content=PLAN_PROMPT.format(plan_critique=state[\"plan_critique\"])), \n",
    "        HumanMessage(content=\"Vytvoř plán reportu popisujícího společnost.\"),\n",
    "    ]\n",
    "    response = model.with_structured_output(Sections).invoke(messages)\n",
    "\n",
    "    content = \"\"\n",
    "    for section in response.sections:\n",
    "        content += f\"## {section}\\n\\n\"        \n",
    "\n",
    "    return {\"plan\": content, \"sections\": response.sections}"
   ]
  },
  {
   "cell_type": "code",
   "execution_count": 18,
   "metadata": {},
   "outputs": [],
   "source": [
    "def plan_critique_node(state: AgentState):\n",
    "    messages = [\n",
    "        SystemMessage(content=PLAN_CRITIQUE_PROMPT.format(plan=state[\"plan\"])), \n",
    "        HumanMessage(content=\"Vytvoř kritiku plánu reportu.\")\n",
    "    ]\n",
    "    response = model.invoke(messages)    \n",
    "    return {\n",
    "        \"plan_critique\": response.content, \n",
    "        \"plan_revision_number\": state.get(\"plan_revision_number\", 1) + 1\n",
    "    }"
   ]
  },
  {
   "cell_type": "code",
   "execution_count": 19,
   "metadata": {},
   "outputs": [],
   "source": [
    "def research_plan_node_obsolete(state: AgentState):\n",
    "    queries = model.with_structured_output(Queries).invoke([\n",
    "        SystemMessage(content=RESEARCH_PLAN_PROMPT.format(research_critique=state[\"research_critique\"], task=state[\"task\"], plan=state[\"plan\"])),\n",
    "        HumanMessage(content=state['task'])\n",
    "    ])\n",
    "    content = state['content'] or []\n",
    "    for q in queries.queries:\n",
    "        response = tavily.search(query=q, max_results=5)        \n",
    "        for r in response['results']:\n",
    "            #content.append(r['content'])\n",
    "            content.append(f\"{r['title']}\\n{r['content']}\\n{r['url']}\\n\")\n",
    "    return {\"content\": content}"
   ]
  },
  {
   "cell_type": "code",
   "execution_count": 20,
   "metadata": {},
   "outputs": [],
   "source": [
    "def research_plan_node(state: AgentState):\n",
    "    contents = []\n",
    "    for section_id, section in enumerate(state[\"sections\"]):\n",
    "        research_critique = state[\"research_critique\"][section_id] if state[\"research_critique\"] != None and section_id < len(state[\"research_critique\"]) else \"\"\n",
    "        queries = model.with_structured_output(Queries).invoke([\n",
    "            SystemMessage(content=RESEARCH_PLAN_PROMPT.format(research_critique=research_critique, task=state[\"task\"], section=section, plan=state[\"plan\"])),\n",
    "            HumanMessage(\"Vytvoř seznam vyhledávacích dotazů pro danou sekci plánu reportu.\")\n",
    "        ])\n",
    "        content = [] if state['content'] == None else state['content'][section_id] or []\n",
    "        #content = state['content'][section_id] or []\n",
    "        for q in queries.queries:\n",
    "            response = tavily.search(query=q, max_results=3)        \n",
    "            for r in response['results']:                \n",
    "                content.append(f\"{r['title']}\\n{r['content']}\\n{r['url']}\\n\")\n",
    "        contents.append(content)\n",
    "        \n",
    "    return {\"content\": contents}"
   ]
  },
  {
   "cell_type": "code",
   "execution_count": 21,
   "metadata": {},
   "outputs": [],
   "source": [
    "def research_critique_node_obsolete(state: AgentState):    \n",
    "    messages = [\n",
    "        SystemMessage(content=RESEARCH_CRITIQUE_PROMPT.format(plan=state[\"plan\"], research=state[\"content\"])), \n",
    "        HumanMessage(content=\"Zhodnoť poskytnutý obsah pro zadaný plán reportu.\")\n",
    "    ]\n",
    "    response = model.invoke(messages)    \n",
    "    return {\n",
    "        \"research_critique\": response.content, \n",
    "        \"research_revision_number\": state.get(\"research_revision_number\", 1) + 1\n",
    "    }"
   ]
  },
  {
   "cell_type": "code",
   "execution_count": 22,
   "metadata": {},
   "outputs": [],
   "source": [
    "def research_critique_node(state: AgentState):    \n",
    "    critiques = []\n",
    "    for section_id, section in enumerate(state[\"sections\"]):\n",
    "        messages = [\n",
    "            SystemMessage(content=RESEARCH_CRITIQUE_PROMPT.format(plan=state[\"plan\"], research=state[\"content\"][section_id], section=section)), \n",
    "            HumanMessage(content=\"Zhodnoť poskytnutý obsah pro zadaný plán reportu a zpracovávanou sekci.\")\n",
    "        ]\n",
    "        response = model.invoke(messages)\n",
    "\n",
    "        critiques.append(response.content)\n",
    "        \n",
    "    return {\n",
    "        \"research_critique\": critiques,\n",
    "        \"research_revision_number\": state.get(\"research_revision_number\", 1) + 1\n",
    "    }"
   ]
  },
  {
   "cell_type": "code",
   "execution_count": 23,
   "metadata": {},
   "outputs": [],
   "source": [
    "def writer_node_obsolete(state: AgentState):\n",
    "    messages = [\n",
    "        SystemMessage(content=WRITER_PROMPT.format(draft_critique=state[\"draft_critique\"], task=state[\"task\"], plan=state[\"plan\"], research=state[\"content\"])), \n",
    "        HumanMessage(content=\"Napiš odborný report o firmě.\")\n",
    "    ]\n",
    "    response = model.invoke(messages)\n",
    "    return {\"draft\": response.content}"
   ]
  },
  {
   "cell_type": "code",
   "execution_count": 24,
   "metadata": {},
   "outputs": [],
   "source": [
    "def writer_node(state: AgentState):    \n",
    "    drafts = []\n",
    "    for section_id, section in enumerate(state[\"sections\"]):\n",
    "        draft_critique = state[\"draft_critique\"][section_id] if state[\"draft_critique\"] != None and section_id < len(state[\"draft_critique\"]) else \"\"            \n",
    "        messages = [\n",
    "            SystemMessage(content=WRITER_PROMPT.format(draft_critique=draft_critique, task=state[\"task\"], plan=state[\"plan\"], research=state[\"content\"][section_id], section=section)), \n",
    "            HumanMessage(content=\"Napiš odborný report o firmě.\")\n",
    "        ]\n",
    "        response = model.invoke(messages)\n",
    "        drafts.append(response.content)\n",
    "        \n",
    "    return {\"draft\": drafts}"
   ]
  },
  {
   "cell_type": "code",
   "execution_count": 25,
   "metadata": {},
   "outputs": [],
   "source": [
    "def writer_critique_node(state: AgentState):\n",
    "    critiques = []\n",
    "    for draft_id, draft in enumerate(state[\"draft\"]):\n",
    "        messages = [\n",
    "            SystemMessage(content=WRITER_CRITIQUE_PROMPT.format(draft=draft, plan=state[\"plan\"], task=state[\"task\"], section=state[\"sections\"][draft_id])), \n",
    "            HumanMessage(content=\"Zhodnoť poskytnutý obsah pro zadaný plán reportu a právě zpracovávanou sekci.\")\n",
    "        ]\n",
    "        response = model.invoke(messages)\n",
    "        critiques.append(response.content)\n",
    "\n",
    "    return {\n",
    "        \"draft_critique\": critiques,\n",
    "        \"draft_revision_number\": state.get(\"draft_revision_number\", 1) + 1\n",
    "    }"
   ]
  },
  {
   "cell_type": "code",
   "execution_count": 26,
   "metadata": {},
   "outputs": [],
   "source": [
    "def css_node(state: AgentState):\n",
    "    messages = [\n",
    "        SystemMessage(content=CSS_PROMPT.format(plan=state[\"plan\"], task=state[\"task\"])), \n",
    "        HumanMessage(content=\"Vytvoř CSS styl pro webovou stránku.\")\n",
    "    ]\n",
    "    response = model.invoke(messages)\n",
    "    return {\"css\": response.content}"
   ]
  },
  {
   "cell_type": "code",
   "execution_count": 27,
   "metadata": {},
   "outputs": [],
   "source": [
    "def html_generator_node(state: AgentState):\n",
    "    messages = [\n",
    "        SystemMessage(content=HTML_GENERATOR_PROMPT.format(plan=state[\"plan\"], css=state[\"css\"], task=state[\"task\"])), \n",
    "        HumanMessage(content=\"Vygeneruj HTML kód pro webovou stránku s označneými místy pro sekce.\")\n",
    "    ]\n",
    "    empty_html = model.invoke(messages).content\n",
    "\n",
    "    store_txt(empty_html, \"empy.html\")\n",
    "    \n",
    "    for draft_id, draft in enumerate(state[\"draft\"]):\n",
    "        messages = [\n",
    "            SystemMessage(content=HTML_SECTION_GENERATOR_PROMPT.format(draft=draft, css=state[\"css\"], task=state[\"task\"])), \n",
    "            HumanMessage(content=\"Vygeneruj HTML kód pro konkrétní sekci.\")\n",
    "        ]\n",
    "        response = model.invoke(messages)\n",
    "        store_txt(response.content, str(draft_id)+\".html\")\n",
    "        empty_html = empty_html.replace(\"<!--section_\" + str(draft_id+1) + \"-->\", f\"{extract_html(response.content)}\\n\\n\")\n",
    "        \n",
    "    return {\"html\": empty_html}"
   ]
  },
  {
   "cell_type": "code",
   "execution_count": 28,
   "metadata": {},
   "outputs": [],
   "source": [
    "def debug_node(state: AgentState):\n",
    "    f = open(\"draft.md\", \"w\", encoding=\"utf-8\")\n",
    "    f.write(state[\"draft\"])\n",
    "    f.close()\n",
    "    return {\"task\": \"hotovo\"}"
   ]
  },
  {
   "cell_type": "code",
   "execution_count": 29,
   "metadata": {},
   "outputs": [],
   "source": [
    "def should_continue(state):    \n",
    "    if state[\"plan_revision_number\"] >= state[\"plan_max_revisions\"]:\n",
    "        return \"done\"\n",
    "    return \"reflect\""
   ]
  },
  {
   "cell_type": "code",
   "execution_count": 30,
   "metadata": {},
   "outputs": [],
   "source": [
    "def should_continue_research(state):\n",
    "    if state[\"research_revision_number\"] >= state[\"research_max_revisions\"]:\n",
    "        return \"done\"\n",
    "    return \"research\""
   ]
  },
  {
   "cell_type": "code",
   "execution_count": 31,
   "metadata": {},
   "outputs": [],
   "source": [
    "def should_continue_writer(state):\n",
    "    if state[\"draft_revision_number\"] >= state[\"draft_max_revisions\"]:\n",
    "        return \"done\"\n",
    "    return \"write\""
   ]
  },
  {
   "cell_type": "code",
   "execution_count": 32,
   "metadata": {},
   "outputs": [],
   "source": [
    "import re\n",
    "\n",
    "def extract_html(html: str):\n",
    "    pattern = r'```html(.*?)```'\n",
    "    match = re.search(pattern, html, re.DOTALL)\n",
    "    return match.group(1)"
   ]
  },
  {
   "cell_type": "code",
   "execution_count": 33,
   "metadata": {},
   "outputs": [],
   "source": [
    "def store_txt(txt: str, filename: str):\n",
    "    f = open(filename, \"w\", encoding=\"utf-8\")\n",
    "    f.write(txt)\n",
    "    f.close()"
   ]
  },
  {
   "cell_type": "code",
   "execution_count": 34,
   "metadata": {},
   "outputs": [],
   "source": [
    "import re\n",
    "\n",
    "def store_html(state):\n",
    "    f = open(\"index.html\", \"w\", encoding=\"utf-8\")    \n",
    "    f.write(extract_html(state[\"html\"]))\n",
    "    f.close()\n",
    "    return {\"task\": \"hotovo\"}"
   ]
  },
  {
   "cell_type": "code",
   "execution_count": 35,
   "metadata": {},
   "outputs": [],
   "source": [
    "builder = StateGraph(AgentState)\n",
    "builder.add_node(\"planner\", plan_node)\n",
    "builder.add_node(\"plan_reflect\", plan_critique_node)\n",
    "\n",
    "builder.add_node(\"generate_queries\", research_plan_node)\n",
    "builder.add_node(\"research_reflect\", research_critique_node)\n",
    "\n",
    "builder.add_node(\"write\", writer_node)\n",
    "builder.add_node(\"write_reflect\", writer_critique_node)\n",
    "\n",
    "builder.add_node(\"css_node\", css_node)\n",
    "builder.add_node(\"html_node\", html_generator_node)\n",
    "builder.add_node(\"store\", store_html)"
   ]
  },
  {
   "cell_type": "code",
   "execution_count": 36,
   "metadata": {},
   "outputs": [],
   "source": [
    "builder.add_conditional_edges(\"planner\", should_continue, {\n",
    "    \"done\": \"generate_queries\",\n",
    "    \"reflect\": \"plan_reflect\"    \n",
    "})\n",
    "\n",
    "builder.add_edge(\"plan_reflect\", \"planner\")\n",
    "builder.add_conditional_edges(\"generate_queries\", should_continue_research, {\n",
    "    \"done\": \"write\",\n",
    "    \"research\": \"research_reflect\"    \n",
    "})\n",
    "\n",
    "builder.add_edge(\"research_reflect\", \"generate_queries\")\n",
    "\n",
    "builder.add_conditional_edges(\"write\", should_continue_writer, {\n",
    "    \"done\": \"css_node\",\n",
    "    \"write\": \"write_reflect\"\n",
    "})\n",
    "\n",
    "builder.add_edge(\"write_reflect\", \"write\")\n",
    "builder.add_edge(\"css_node\", \"html_node\")\n",
    "builder.add_edge(\"html_node\", \"store\")\n",
    "\n",
    "builder.add_edge(\"store\", END)"
   ]
  },
  {
   "cell_type": "code",
   "execution_count": 37,
   "metadata": {},
   "outputs": [],
   "source": [
    "builder.set_entry_point(\"planner\")\n",
    "graph = builder.compile(checkpointer=memory)"
   ]
  },
  {
   "cell_type": "code",
   "execution_count": 38,
   "metadata": {},
   "outputs": [
    {
     "name": "stdout",
     "output_type": "stream",
     "text": [
      "{'planner': {'plan': '## 1. Úvod\\n\\n## 2. Historie společnosti\\n\\n## 3. Organizační struktura\\n\\n## 4. Produkty a služby\\n\\n## 5. Trh a konkurence\\n\\n## 6. Finanční analýza\\n\\n## 7. Strategie a vize\\n\\n## 8. Firemní kultura a hodnoty\\n\\n## 9. Závěr\\n\\n', 'sections': ['1. Úvod', '2. Historie společnosti', '3. Organizační struktura', '4. Produkty a služby', '5. Trh a konkurence', '6. Finanční analýza', '7. Strategie a vize', '8. Firemní kultura a hodnoty', '9. Závěr']}} dict_keys(['planner'])\n",
      "{'generate_queries': {'content': [['VSB - Technical University of Ostrava - Wikipedia\\nVSB - Technical University of Ostrava (abbreviated VSB-TUO; Czech: Vysoká škola báňská - Technická univerzita Ostrava) is a university in Ostrava in the Moravian-Silesian Region of the Czech Republic.It is a polytechnic university with a long history of high-quality engineering education and research. [2] The first Fraunhofer Innovation Platform for Applied Artificial Intelligence ...\\nhttps://en.wikipedia.org/wiki/VSB_–_Technical_University_of_Ostrava\\n', 'VŠB - Technická univerzita Ostrava - VŠB-TUO - vsb.cz\\nVŠB - Technická univerzita Ostrava už více než 175 let propojuje technické, ekonomické, přírodovědné a umělecké obory v moderních studijních programech, reagujících na skutečné problémy současnosti. Realizujeme základní i aplikovaný výzkum na špičkové úrovni. Díky tradici a spolupráci s průmyslem i řadou domácích a zahraničních univerzit\\nhttps://www.vsb.cz/cs/\\n', 'Vysoká škola báňská - Technická univerzita Ostrava - Wikipedie\\nVysoká škola báňská - Technická univerzita Ostrava (VŠB-TUO) navazuje na činnost Báňské akademie (pozdější Vysoké školy báňské) v Příbrami, která byla v roce 1945 přesunuta z Příbrami do Ostravy.VŠB-TUO propojuje technické, ekonomické, přírodovědné a umělecké obory v moderních studijních programech, reagujících na skutečné problémy současnosti.\\nhttps://cs.wikipedia.org/wiki/Vysoká_škola_báňská_–_Technická_univerzita_Ostrava\\n', 'VŠB - Technická univerzita Ostrava - VŠB-TUO - vsb.cz\\nVŠB - Technická univerzita Ostrava už více než 175 let propojuje technické, ekonomické, přírodovědné a umělecké obory v moderních studijních programech, reagujících na skutečné problémy současnosti. Realizujeme základní i aplikovaný výzkum na špičkové úrovni. Díky tradici a spolupráci s průmyslem i řadou domácích a zahraničních univerzit\\nhttps://www.vsb.cz/cs/\\n', 'Představení VŠB - Technické univerzity Ostrava - YouTube\\nVítejte na VŠB - Technické univerzitě Ostrava, škole s více než 170letou historií. Vzděláváme studenty v technických, přírodovědných, ekonomických a umělecký...\\nhttps://www.youtube.com/watch?v=qWoCbzWDclM\\n', 'Hornicko-geologická fakulta, VŠB - Technická univerzita Ostrava\\nHornicko-geologická fakulta, VŠB - Technická univerzita Ostrava. 300 let tradice, unikátní spojení techniky s přírodou, moderní a aktuální obory s dlouhodobou perspektivou. Děkanát HGF. Institut čistých technologií těžby a užití energetických surovin. Institut kombinovaného studia Most.\\nhttps://www.hgf.vsb.cz/cs/\\n', 'VSB - Technical University of Ostrava - Wikipedia\\nVSB - Technical University of Ostrava (abbreviated VSB-TUO; Czech: Vysoká škola báňská - Technická univerzita Ostrava) is a university in Ostrava in the Moravian-Silesian Region of the Czech Republic.It is a polytechnic university with a long history of high-quality engineering education and research. [2] The first Fraunhofer Innovation Platform for Applied Artificial Intelligence ...\\nhttps://en.wikipedia.org/wiki/VSB_–_Technical_University_of_Ostrava\\n', 'Kdo jsme - VŠB-TUO - vsb.cz\\nVŠB - Technická univerzita Ostrava už více než 175 let propojuje technické, ekonomické, přírodovědné a umělecké obory v moderních studijních programech, reagujících na skutečné problémy současnosti. ... Realizujeme základní i aplikovaný výzkum na špičkové úrovni.Díky tradici a spolupráci s průmyslem i řadou ...\\nhttps://www.vsb.cz/cs/o-univerzite\\n', 'VŠB - Technical University of Ostrava\\nVŠB - Technical University of Ostrava (31) VŠB-Technical University of Ostrava was founded in 1849, and has since grown into a modern institution of higher learning, offering the highest levels of education in technical and economic branches of study, based on the interconnection of science, research, education, and the creative activity that binds and enhances them.\\nhttp://www.universities.cz/czech-universities/public-universities/-vb-technical-university-of-ostrava\\n'], ['Historické okamžiky VŠB - Technické univerzity Ostrava\\nProces transformace VŠB na univerzitu polytechnického charakteru byl završen změnou jejího názvu na VŠB - Technická univerzita Ostrava. 2015 ... Technické univerzity Ostrava Ke kořenům VŠB-TUO Největší okamžiky Československa na VŠB-TUO Fotogalerie historie.\\nhttps://www.vsb.cz/vyroci170/cs/vyroci-170-let/historicke-okamziky-vsb-tuo/\\n', 'Historie VŠB - Technické univerzity Ostrava - VŠB-TUO - vsb.cz\\nHistorie VŠB - Technické univerzity Ostrava. První zmínky o univerzitě pocházejí z roku 1716, kdy byla založena první hornická akademie v Jáchymově. ... Technická univerzita Ostrava. V novém tisíciletí kampus doplnila univerzitní aula, která rozšířila chybějící společenské a výukové prostory. Aulu v roce 2012 ...\\nhttps://www.vsb.cz/cs/o-univerzite/historie\\n', 'VSB - Technical University of Ostrava - Wikipedia\\nVSB - Technical University of Ostrava (abbreviated VSB-TUO; Czech: Vysoká škola báňská - Technická univerzita Ostrava) is a university in Ostrava in the Moravian-Silesian Region of the Czech Republic.It is a polytechnic university with a long history of high-quality engineering education and research. [2] The first Fraunhofer Innovation Platform for Applied Artificial Intelligence ...\\nhttps://en.wikipedia.org/wiki/VSB_–_Technical_University_of_Ostrava\\n', 'Historie VŠB - Technické univerzity Ostrava - VŠB-TUO - vsb.cz\\nHistorie VŠB - Technické univerzity Ostrava. První zmínky o univerzitě pocházejí z roku 1716, kdy byla založena první hornická akademie v Jáchymově. ... Technická univerzita Ostrava. V novém tisíciletí kampus doplnila univerzitní aula, která rozšířila chybějící společenské a výukové prostory. Aulu v roce 2012 ...\\nhttps://www.vsb.cz/cs/o-univerzite/historie\\n', 'Historické okamžiky VŠB - Technické univerzity Ostrava\\nProces transformace VŠB na univerzitu polytechnického charakteru byl završen změnou jejího názvu na VŠB - Technická univerzita Ostrava. 2015 ... Technické univerzity Ostrava Ke kořenům VŠB-TUO Největší okamžiky Československa na VŠB-TUO Fotogalerie historie.\\nhttps://www.vsb.cz/vyroci170/cs/vyroci-170-let/historicke-okamziky-vsb-tuo/\\n', 'Báňská univerzita působí v Ostravě už 75 let. Její historie se ale píše ...\\nVysoká škola báňská -\\u2060 Technická univerzita slaví 75 let svého působení v Ostravě. Její historie ale začala už před 180 lety v Příbrami. ... Od roku 1995 nese škola název Vysoká škola báňská -\\u2060 Technická univerzita Ostrava. Superpočítače, 3D tisk i nanotechnologie ... V roce 2015 bylo při VŠB-TUO ...\\nhttps://ct24.ceskatelevize.cz/clanek/regiony/moravskoslezsky-kraj/banska-univerzita-pusobi-v-ostrave-uz-75-let-jeji-historie-se-ale-pise-uz-temer-dve-stoleti-43092\\n', 'Centrum pokročilých inovačních technologií - FMT VŠB-TUO - vsb.cz\\nVŠB-TUO InNET English. ... Biomechanika, protetika, vývoj rehabilitačních pomůcek a potřeb, léčebné postupy, testování, výroba. ... Vysoká škola báňská - Technická univerzita Ostrava 17.listopadu 2172/15 708 00 Ostrava-Poruba. IČO: 61989100 DIČ: CZ61989100\\nhttps://www.fmt.vsb.cz/cpit/cs\\n', 'VSB - Technical University of Ostrava - Wikipedia\\nVSB - Technical University of Ostrava (abbreviated VSB-TUO; Czech: Vysoká škola báňská - Technická univerzita Ostrava) is a university in Ostrava in the Moravian-Silesian Region of the Czech Republic.It is a polytechnic university with a long history of high-quality engineering education and research. [2] The first Fraunhofer Innovation Platform for Applied Artificial Intelligence ...\\nhttps://en.wikipedia.org/wiki/VSB_–_Technical_University_of_Ostrava\\n', 'VŠB - Technická univerzita Ostrava - VŠB-TUO - vsb.cz\\nVŠB - Technická univerzita Ostrava už více než 175 let propojuje technické, ekonomické, přírodovědné a umělecké obory v moderních studijních programech, reagujících na skutečné problémy současnosti. Realizujeme základní i aplikovaný výzkum na špičkové úrovni. Díky tradici a spolupráci s průmyslem i řadou domácích a zahraničních univerzit\\nhttps://www.vsb.cz/cs/\\n'], ['Vedení univerzity - VŠB-TUO - vsb.cz\\nOrganizační struktura vysokých škol bývá veřejnosti často velmi vzdálená. Rádi vám ji přiblížíme. ... VŠB-TUO › Univerzita › Organizační struktura ... který s podporou prorektorů určuje její směr a vývoj. prof. RNDr. Václav Snášel, CSc. rektor VŠB - Technické univerzity Ostrava. místnost A 324. E-mail ...\\nhttps://www.vsb.cz/cs/o-univerzite/organizacni-struktura/vedeni-univerzity\\n', 'Vedení fakulty - Fakulta stavební - VŠB-TUO - vsb.cz\\nFAST › O fakultě › Organizační struktura ... VŠB - Technické univerzity Ostrava. místnost B 203/2. E-mail: pavlina.mateckova@vsb.cz Telefon: +420 596 991 394 . Ing. Eva Wernerová, Ph.D. Proděkanka pro rozvoj a propagaci Fakulty stavební, VŠB - Technické univerzity Ostrava.\\nhttps://www.fast.vsb.cz/cs/o-fakulte/organizacni-struktura/vedeni-fakulty/\\n', 'Struktura informací zveřejňovaných o VŠB-TUO jako povinném subjektu dle ...\\nStruktura informací zveřejňovaných o VŠB-TUO jako povinném subjektu dle §5 odst. 1 z. č. 106/1999 Sb. ve struktuře stanovené vyhláškou č. 515/2020 ... Organizační struktura. ... v sekci Organizační struktura. 4. Kontaktní spojení 4.1 Kontaktní poštovní adresa. Vysoká škola báňská - Technická univerzita Ostrava ...\\nhttps://www.vsb.cz/cs/o-univerzite/uredni-deska/struktura-informaci-o-povinnem-subjektu/\\n', 'Vedení univerzity - VŠB-TUO - vsb.cz\\nOrganizační struktura vysokých škol bývá veřejnosti často velmi vzdálená. Rádi vám ji přiblížíme. ... VŠB-TUO › Univerzita › Organizační struktura ... který s podporou prorektorů určuje její směr a vývoj. prof. RNDr. Václav Snášel, CSc. rektor VŠB - Technické univerzity Ostrava. místnost A 324. E-mail ...\\nhttps://www.vsb.cz/cs/o-univerzite/organizacni-struktura/vedeni-univerzity\\n', 'Organizační výbor- Ekonomická fakulta - VŠB-TUO\\nOrganizační výbor. EKF > KONFERENCE: Veřejná ekonomika a správa 2017 > Ročník 2017 > Organizační výbor. Kontakt. Ing. Ivana Vaňková, Ph.D. hlavní organizátor konference E-mail: ivana ... VŠB - Technická univerzita Ostrava 17. listopadu 15 708 33 Ostrava - Poruba\\nhttps://www.ekf.vsb.cz/share/static/ekf/www.ekf.vsb.cz/ves-history/cs/2017/vybor/index.html\\n', 'Organizační informace - RASPO EKF VŠB-TUO - vsb.cz\\nOrganizační výbor . Ing. Eva Ardielli, Ph.D. Hlavní organizátor konference E-mail: eva.ardielli@vsb.cz Tel.: +420 596 992 310; ... VŠB - Technická univerzita Ostrava Ekonomická fakulta Katedra veřejné ekonomiky Sokolská třída 2416/33 702 00 Ostrava - Moravská Ostrava Česká republika.\\nhttps://www.ekf.vsb.cz/raspo/cs/organizacni-informace/\\n', 'O fakultě - Fakulta strojní - VŠB-TUO - vsb.cz\\nFakulta strojní, VŠB - Technická univerzita Ostrava mění současnost a budoucnost strojních technických oborů. Historie. Na základě vládního nařízení z 27. 6. 1950 byla zřízena dnem 1. ... Katedry Děkanát Oddělení projektů Studijní oddělení a International Office Centrum bakalářských studií Šumperk Laboratoře 360 ...\\nhttps://www.fs.vsb.cz/cs/o-fakulte/\\n', 'Vedení univerzity - VŠB-TUO - vsb.cz\\nVŠB-TUO › Univerzita › Organizační struktura › Vedení univerzity. Vedení univerzity. Ve vedení univerzity stojí rektor, který s podporou prorektorů určuje její směr a vývoj. prof. RNDr. Václav Snášel, CSc. rektor VŠB - Technické univerzity Ostrava. místnost A 324. E-mail: rektor@vsb.cz Telefon: +420 596 995 279. Ing ...\\nhttps://www.vsb.cz/cs/o-univerzite/organizacni-struktura/vedeni-univerzity\\n', 'Studijní oddělení - VŠB-TUO - vsb.cz\\nVŠB-TUO › Univerzita ... Nahlédněte do úředních hodin a neváhejte kontaktovat konkrétní studijní oddělení. ... Tiskové zprávy Kontakty Sociální média Mobilní aplikace VŠB-TUO VŠB-TUO v médiích Univerzitní magazín Akademik Fotogalerie Vizuální styl Udržitelná univerzita Popularizace vědy a techniky Brožury ...\\nhttps://www.vsb.cz/cs/o-univerzite/kontakty-mapy-parkovani/studijni-oddeleni\\n'], ['Služby univerzity - VŠB-TUO - vsb.cz\\nVŠB - Technická univerzita Ostrava nabízí celé spektrum služeb, například ubytování, pronájem sportovišť nebo také podporu podnikání. ... Poskytujeme služby pro podporu transferu technologií, a to zejména v oblastech ochrany průmyslového vlastnictví, komercializace a projektové podpory fáze proof of concept. ...\\nhttps://www.vsb.cz/cs/o-univerzite/sluzby\\n', 'VŠB - Technical University of Ostrava\\nVŠB - Technical University of Ostrava (31) VŠB-Technical University of Ostrava was founded in 1849, and has since grown into a modern institution of higher learning, offering the highest levels of education in technical and economic branches of study, based on the interconnection of science, research, education, and the creative activity that binds and enhances them.\\nhttp://www.universities.cz/czech-universities/public-universities/-vb-technical-university-of-ostrava\\n', 'Fakulta strojní - VŠB-TUO - Fakulta strojní - VŠB-TUO - vsb.cz\\nJsme Fakulta strojní, VŠB - Technická univerzita Ostrava Inovace, které hýbou světem. Absolventi, kteří si z nabídek práce mohou vybírat. ... V Protolabu tisknou z kovových slitin, plastů i kompozitních materiálů a nabízí služby reverzního inženýrství. Studenti si díky tomu vyzkouší praxi ještě na škole.\\nhttps://www.fs.vsb.cz/cs/\\n', 'Univerzita třetího věku - Fakulta strojní - VŠB-TUO - vsb.cz\\nVŠB-TUO InNET English. ... Vysoká škola báňská - Technická univerzita Ostrava Fakulta strojní, Katedra Energetiky Místnost: A612 nebo A614 17. listopadu 2172/15 70800 Ostrava-Poruba. Kontaktní osoby. ... Nabídka služeb Spolupráce s univerzitami Spolupráce s prax ...\\nhttps://www.fs.vsb.cz/361/cs/studium/univerzita-tretiho-veku/\\n', 'PDF Nabídka služeb - vsb.cz\\nNabídka služeb 2024. kariéra+je největším veletrhem pracovních příležitostí pro studenty a absolventy vysokých ... VŠB - Technická univerzita Ostrava 17. listopadu 15/2172 708 33 Ostrava-Poruba IČ: 61989100 David Hibler +420 704 850 028 kariera.plus@vsb.cz\\nhttps://karieraplus.vsb.cz/export/sites/karieraplus/.content/galerie-souboru/k-nabidka.pdf\\n', 'Služby univerzity - VŠB-TUO - vsb.cz\\nVŠB - Technická univerzita Ostrava nabízí celé spektrum služeb, například ubytování, pronájem sportovišť nebo také podporu podnikání. Nabídka vzdělávání na VŠB-TUO Lidé si u nás mohou rozšířit své znalosti a dovednosti, ať už v rámci profesního růstu nebo pro vlastní obohacení.\\nhttps://www.vsb.cz/cs/o-univerzite/sluzby\\n', 'Projekty - Výzkumné energetické centrum - CEET VŠB-TUO\\n2024 - M-EKIS Vysoká škola báňská - Technická univerzita Ostrava : 2024 2024 2023 Kód Název projektu Rok zahájení Rok ukončení TK05010075 ... Výstavba FVE na vybraných střešních systémech VŠB-TU Ostrava-Poruba: 2010 2010 ... Výzkumné programy Spolupráce Výsledky projektu.\\nhttps://vec.vsb.cz/cs/vyzkum-a-vyvoj/projekty/\\n', 'O nás - Výzkumné energetické centrum - CEET VŠB-TUO - vsb.cz\\nVysoká škola báňská - Technická univerzita Ostrava (VŠB-TUO) Centrum energetických a environmentálních technologií (CEET) Výzkumné energetické centrum (VEC) 17. listopadu 2172/15 708 00 Ostrava-Poruba Tel: 597 324 285 e-mail: web: ceet.vsb.cz/vec\\nhttps://vec.vsb.cz/cs/o-nas/\\n', 'PDF VŠB - TECHNICKÁ UNIVERZITA OSTRAVA - vsb.cz\\nSTUDIJNÍ PROGRAMY CHARAKTERISTIKA VÝZKUMU Výzkumné týmy fakulty se podílejí na společných výzkumných projektech s týmy z Německa, USA, Číny, Španělska a z mnoha jiných zemí. V kampusu VŠB-TUO se nachází Národní superpočítačové centrum IT4Innovations, které nabízí unikátní příležitosti pro vý-\\nhttps://www.vsb.cz/export/sites/vsb/en/.content/files/brozura-fakulty.pdf\\n'], ['VŠB - Technical University of Ostrava\\nVŠB - Technical University of Ostrava (31) VŠB-Technical University of Ostrava was founded in 1849, and has since grown into a modern institution of higher learning, offering the highest levels of education in technical and economic branches of study, based on the interconnection of science, research, education, and the creative activity that binds and enhances them.\\nhttp://www.universities.cz/czech-universities/public-universities/-vb-technical-university-of-ostrava\\n', 'VSB - Technical University of Ostrava - Wikipedia\\nVSB - Technical University of Ostrava (abbreviated VSB-TUO; Czech: Vysoká škola báňská - Technická univerzita Ostrava) is a university in Ostrava in the Moravian-Silesian Region of the Czech Republic.It is a polytechnic university with a long history of high-quality engineering education and research. [2] The first Fraunhofer Innovation Platform for Applied Artificial Intelligence ...\\nhttps://en.wikipedia.org/wiki/VSB_–_Technical_University_of_Ostrava\\n', 'VSB - Technical University of Ostrava Ranking & Overview 2024\\nEstablished in 1849, the VŠB - Technická univerzita Ostrava (VSB - Technical University of Ostrava) is a non-profit public higher education institution located in the suburban setting of the medium city of Ostrava (population range of 250,000-499,999 inhabitants), Moravian-Silesian Region. This institution also has branch campuses in Most ...\\nhttps://www.4icu.org/reviews/universities-english/1146.html\\n', 'Analýza konkurenceschopnosti vybraného podniku\\nDSpace VŠB-TUO; Ekonomická fakulta / Faculty of Economics (EKF) ... Analýza konkurenceschopnosti vybraného podniku. Title alternative. Competitiveness Analysis of the Selected Company. View/ Open. ... Vysoká škola báňská - Technická univerzita Ostrava. Ekonomická fakulta.\\nhttps://dspace.vsb.cz/handle/10084/102000?locale-attribute=en\\n', 'PDF Lenka Plačková: Analýza konkurence - CORE\\nTECHNICKÁ UNIVERZITA OSTRAVA Hornicko-geologická fakulta Institut ekonomiky a systémů řízení ANALÝZA KONKURENCE V PODMÍNKÁCH OBCHODNÍ SPOLENOSTI ... Technická univerzita Ostrava (dále jen VŠB-TUO) má právo nevýděleně, ke své vnitřní potřebě, bakalářskou práci užít (§ 35 odst. 3). ...\\nhttps://core.ac.uk/download/pdf/8985794.pdf\\n', 'PDF VŠB - Technická univerzita Ostrava Fakulta strojní Katedra mechanické ...\\nAnalýza konkurence pr ůmyslového produktu Competition Analysis of Industrial Product Student: Michal Gajdoš Vedoucí bakalá řské práce: Ing. Libor Ne čas Ostrava 2011. ... Ostrava : VŠB - Technická univerzita Ostrava, Fakulta strojní, Katedra mechanické\\nhttps://core.ac.uk/download/pdf/8990968.pdf\\n', 'VSB - Technical University of Ostrava - Wikipedia\\nVSB - Technical University of Ostrava (abbreviated VSB-TUO; Czech: Vysoká škola báňská - Technická univerzita Ostrava) is a university in Ostrava in the Moravian-Silesian Region of the Czech Republic.It is a polytechnic university with a long history of high-quality engineering education and research. [2] The first Fraunhofer Innovation Platform for Applied Artificial Intelligence ...\\nhttps://en.wikipedia.org/wiki/VSB_–_Technical_University_of_Ostrava\\n', 'VŠB - Technická univerzita Ostrava - VŠB-TUO - vsb.cz\\nVŠB - Technická univerzita Ostrava už více než 175 let propojuje technické, ekonomické, přírodovědné a umělecké obory v moderních studijních programech, reagujících na skutečné problémy současnosti. Realizujeme základní i aplikovaný výzkum na špičkové úrovni. Díky tradici a spolupráci s průmyslem i řadou domácích a zahraničních univerzit\\nhttps://www.vsb.cz/cs/\\n', 'VŠB-TUO obhájila pozici v prestižním žebříčku\\nNa sdílené 1201. - 1500. pozici se v aktuálním vydání Times Higher Education World University Rankings 2025 (THE WUR) umístila VŠB-Technická univerzita Ostrava. V mezinárodním žebříčku, který hodnotí studijní prostředí, výzkum, internacionalizaci univerzit a spolupráci s průmyslem, obhájila postavení z předchozího roku. Toto vydání zahrnuje hodnocení 2092 ...\\nhttps://www.vsb.cz/veda/cs/detail-novinky/?reportId=48063&linkBack=/veda/cs/index.html\\n'], ['Vysokoškolské kvalifikační práce Ekonomické fakulty / Theses and ...\\nDSpace VŠB-TUO; Ekonomická fakulta / Faculty of Economics (EKF) ... (2436) 1978 - 1979 (2) Klíčové slovo finanční analýza (918) financial analysis (876) SWOT analýza (700) ... Technická univerzita Ostrava (29412) Vysoká škola báňská - Technická univerzita Ostrava (2631) ...\\nhttps://dspace.vsb.cz/handle/10084/2562\\n', 'VŠB - Technická univerzita Ostrava - VŠB-TUO - vsb.cz\\nVŠB - Technická univerzita Ostrava už více než 175 let propojuje technické, ekonomické, přírodovědné a umělecké obory v moderních studijních programech, reagujících na skutečné problémy současnosti. Realizujeme základní i aplikovaný výzkum na špičkové úrovni. Díky tradici a spolupráci s průmyslem i řadou domácích a zahraničních univerzit\\nhttps://www.vsb.cz/cs/\\n', 'VŠB - Technická univerzita Ostrava - VŠB-TUO - vsb.cz\\nVŠB - Technická univerzita Ostrava už více než 175 let propojuje technické, ekonomické, přírodovědné a umělecké obory v moderních studijních programech, reagujících na skutečné problémy současnosti. Realizujeme základní i aplikovaný výzkum na špičkové úrovni. Díky tradici a spolupráci s průmyslem i řadou domácích a zahraničních univerzit\\nhttps://www.vsb.cz/cs/?arc=1\\n', 'Rozpočet a financování 2023 - Portaro - library catalog\\nVŠB - Technická univerzita Ostrava. ÚSTRŘEDNÍ KNIHOVNA. Rozpočet a financování 2023. Back to searched Previous Next . Documents for download Show attached files {{file.name}} Record management. Edit Update record Copy Attached files End catalogization Mark as uncatalogued Delete ...\\nhttps://katalog.vsb.cz/records/74e336ec-d587-4e59-bad6-f21c8d2b1af0?locale=en\\n', 'Kurzy - VŠB-TUO - vsb.cz\\nOstrava (Vysoká škola báňská - Technická univerzita Ostrava Ekonomická fakulta 17. listopadu 2172/15 708 00 Ostrava-Poruba) ... Typ financování: Z prostředků účastníka: Účel vzdělávání ...\\nhttps://www.vsb.cz/cs/chci-studovat/dalsi-vzdelavani/kurzy/?courseId=426\\n', 'VSB - Technical University of Ostrava - Wikipedia\\nVSB - Technical University of Ostrava (abbreviated VSB-TUO; Czech: Vysoká škola báňská - Technická univerzita Ostrava) is a university in Ostrava in the Moravian-Silesian Region of the Czech Republic.It is a polytechnic university with a long history of high-quality engineering education and research. [2] The first Fraunhofer Innovation Platform for Applied Artificial Intelligence ...\\nhttps://en.wikipedia.org/wiki/VSB_–_Technical_University_of_Ostrava\\n', 'DSpace VŠB-TUO\\nVýroční zprávy VŠB-TUO; ... 1949 (20) Klíčové slovo analýza (1267) analysis (1180) finanční analýza (1170) financial analysis (1119) SWOT ... . zobrazit další Vydavatel Vysoká škola báňská - Technická univerzita Ostrava (89117) Vysoká škola báňská - Technická univerzita Ostrava (9778) Státní pedagogické ...\\nhttps://dspace.vsb.cz/\\n', 'VŠB - Technická univerzita Ostrava - VŠB-TUO - vsb.cz\\nVŠB - Technická univerzita Ostrava už více než 175 let propojuje technické, ekonomické, přírodovědné a umělecké obory v moderních studijních programech, reagujících na skutečné problémy současnosti. Realizujeme základní i aplikovaný výzkum na špičkové úrovni. Díky tradici a spolupráci s průmyslem i řadou domácích a zahraničních univerzit\\nhttps://www.vsb.cz/cs/\\n', 'Kdo jsme - VŠB-TUO - vsb.cz\\nKdo jsme. VŠB - Technická univerzita Ostrava už více než 175 let propojuje technické, ekonomické, přírodovědné a umělecké obory v moderních studijních programech, reagujících na skutečné problémy současnosti. Realizujeme základní i aplikovaný výzkum na špičkové úrovni.Díky tradici a spolupráci s průmyslem i ...\\nhttps://www.vsb.cz/cs/o-univerzite\\n'], ['REFRESH - projekt vize SMARAGD\\nVŠB - Technická univerzita Ostrava ... Nezbytnou součástí této strategie je i analýza sociálně-ekonomického dopadu implementace nových vědeckých poznatků To vše bude možné díky spolupráci předních výzkumných organizací a inovačních lídrů v souladu se strategickými dokumenty na národní a mezinárodní úrovni ...\\nhttps://www.smaragdova.cz/refresh/\\n', 'VSB - Technical University of Ostrava - Wikipedia\\nVSB - Technical University of Ostrava (abbreviated VSB-TUO; Czech: Vysoká škola báňská - Technická univerzita Ostrava) is a university in Ostrava in the Moravian-Silesian Region of the Czech Republic.It is a polytechnic university with a long history of high-quality engineering education and research. [2] The first Fraunhofer Innovation Platform for Applied Artificial Intelligence ...\\nhttps://en.wikipedia.org/wiki/VSB_–_Technical_University_of_Ostrava\\n', 'Management kvality - VŠB-TUO - vsb.cz\\nManagement kvality. Aplikace norem ISO v řízení kvality je na VŠB - Technická univerzita Ostrava každoročně obhajována v rámci recertifikačních auditů. Mise. VŠB-TUO je vysokou školou technicko-ekonomického zaměření. Misí univerzity je utvářet životy a společnost prostřednictvím vzdělávání, výzkumu a inovací. Vize.\\nhttps://www.vsb.cz/cs/o-univerzite/management-kvality\\n', 'Strategický záměr VŠB-TUO 2021 - 2027 - VŠB-TUO - vsb.cz\\nStrategický záměr VŠB-TUO byl vytvářen po většinu roku 2020 a popisuje směřování univerzity v dalším období. ... Jsme unikátní živou laboratoří s profilovaným a mezinárodně uznávaným výzkumem řešícím budoucí výzvy společnosti v aktuálním čase. ... Strategické priority a cíle VŠB-TUO 2021+\\nhttps://www.vsb.cz/cs/o-univerzite/strategicky-zamer/\\n', 'Studium - Fakulta strojní - VŠB-TUO\\nVŠB-TUO InNET English. ... Studijní plány. forma prezenční (cs) ... Cíle studia. Studenti se věnují jednotlivým technologiím aditivní výroby a jejich problematice a zároveň jsou seznámeni s moderními softwary pro podporu konstrukčních prací. Získané zkušenosti, dovednosti a vědomosti jsou studenti schopni dále rozvíjet ...\\nhttps://www.fs.vsb.cz/346/cs/studium/?brancheId=1870\\n', 'Studijní programy - Fakulta elektrotechniky a informatiky - VŠB-TUO\\nStudijní plány. forma prezenční (cs) ... Tyto počítačové systémy se stávají základem kritické infrastruktury formující základ pro nové a budoucí smart služby měnící od základu průmysl i životní styl budoucích generací. ... Proč VŠB-TUO a Ostrava Naše fakulta Virtuální prohlídka Naši absolventi.\\nhttps://www.fei.vsb.cz/cs/uchazec/studijni-programy/?programmeId=774&academicYearId=64&studyLanguageIds=1\\n', 'Strategické záměry - Ekonomická fakulta - VŠB-TUO - vsb.cz\\nStrategické záměry. 2024. Plán realizace Strategického záměru Ekonomické fakulty VŠB-TUO pro rok 2024 ... vývojové a inovační, umělecké a další tvůrčí činnosti VŠB-TUO pro rok 2016; Dlouhodobý záměr vzdělávací a vědecké, výzkumné, vývojové a inovační, umělecké a další tvůrčí činnosti EkF VŠB-TUO na ...\\nhttps://www.ekf.vsb.cz/cs/o-fakulte/uredni-deska/strategicke-zamery/\\n', 'Strategické záměry - Fakulta strojní - VŠB-TUO\\nStrategické záměry. 2021. Strategický záměr vzdělávací a tvůrčí činnosti na roky 2021-2027 na FS VŠB-TUO (PDF, 922 KiB) Přílohy Plán realizace strategického záměru vzdělávací a tvůrčí činnosti na rok 2021 na FS VŠB-TUO (PDF, 758 KiB)\\nhttps://www.fs.vsb.cz/cs/o-fakulte/uredni-deska/strategicke-zamery/\\n', 'PDF Strategický Záměr Fakulty Materiálově-technologické Všb-tuo Na Období ...\\nStrategický záměr Fakulty materiálově-technologické je „živý\" materiál, jehož roční plány realiza - ce budou muset v následujících letech pružně reagovat na konkrétní technologické a ekonomické ... „SZ VŠB-TUO\"), který definuje strategické priority a cíle univerzity:\\nhttps://www.fmt.vsb.cz/export/sites/fmt/cs/o-fakulte/uredni-deska/zamery/Strategicky-zamer-FMT_elektronicka-verze-Final.pdf\\n'], ['VSB - Technical University of Ostrava - Wikipedia\\nVSB - Technical University of Ostrava (abbreviated VSB-TUO; Czech: Vysoká škola báňská - Technická univerzita Ostrava) is a university in Ostrava in the Moravian-Silesian Region of the Czech Republic.It is a polytechnic university with a long history of high-quality engineering education and research. [2] The first Fraunhofer Innovation Platform for Applied Artificial Intelligence ...\\nhttps://en.wikipedia.org/wiki/VSB_–_Technical_University_of_Ostrava\\n', 'VŠB - Technická univerzita Ostrava - VŠB-TUO - vsb.cz\\nVŠB - Technická univerzita Ostrava už více než 175 let propojuje technické, ekonomické, přírodovědné a umělecké obory v moderních studijních programech, reagujících na skutečné problémy současnosti. Realizujeme základní i aplikovaný výzkum na špičkové úrovni. Díky tradici a spolupráci s průmyslem i řadou domácích a zahraničních univerzit\\nhttps://www.vsb.cz/cs/\\n', 'Firemní kultura a strategické řízení průmyslového podniku\\nDSpace VŠB-TUO; Fakulta materiálově-technologická / Faculty of Materials Science and Technology (FMT) ... Firemní kultura a strategické řízení průmyslového podniku. Další název. Company Culture and Strategic Industrial Company Management. Zobrazit/ otevřít.\\nhttps://dspace.vsb.cz/handle/10084/104597\\n', 'VŠB - Technical University of Ostrava\\nVŠB - Technical University of Ostrava (31) VŠB-Technical University of Ostrava was founded in 1849, and has since grown into a modern institution of higher learning, offering the highest levels of education in technical and economic branches of study, based on the interconnection of science, research, education, and the creative activity that binds and enhances them.\\nhttp://www.universities.cz/czech-universities/public-universities/-vb-technical-university-of-ostrava\\n', 'VSB - Technical University of Ostrava - Wikipedia\\nVSB - Technical University of Ostrava (abbreviated VSB-TUO; Czech: Vysoká škola báňská - Technická univerzita Ostrava) is a university in Ostrava in the Moravian-Silesian Region of the Czech Republic.It is a polytechnic university with a long history of high-quality engineering education and research. [2] The first Fraunhofer Innovation Platform for Applied Artificial Intelligence ...\\nhttps://en.wikipedia.org/wiki/VSB_–_Technical_University_of_Ostrava\\n', 'Management kvality - VŠB-TUO - vsb.cz\\nManagement kvality. Aplikace norem ISO v řízení kvality je na VŠB - Technická univerzita Ostrava každoročně obhajována v rámci recertifikačních auditů. Mise. VŠB-TUO je vysokou školou technicko-ekonomického zaměření. Misí univerzity je utvářet životy a společnost prostřednictvím vzdělávání, výzkumu a inovací. Vize.\\nhttps://www.vsb.cz/cs/o-univerzite/management-kvality\\n', 'Pracovní příležitosti - VŠB-TUO - vsb.cz\\nVŠB - Technická univerzita Ostrava nabízí celé spektrum služeb, například ubytování, pronájem sportovišť nebo také podporu podnikání. ... Pracovní příležitosti na VŠB-TUO. ... Informační deska Služby Kampus Ústřední knihovna Poradenské centrum Projekty HR Award Rovné příležitosti Akademická etika Management ...\\nhttps://www.vsb.cz/pracovni-prilezitosti\\n', 'DSpace VŠB-TUO\\nČlánky ze Sborníku vědeckých prací VŠB-TUO; Články z časopisů vydávaných na VŠB-TUO; ... Technická univerzita Ostrava (9778) Státní pedagogické nakladatelství (2212) Elsevier (1558) MDPI (1197) Springer (480) Sdružení požárního a bezpečnostního inženýrství (361) Vysoká škola báňská - Technická univerzita Ostrava.\\nhttps://dspace.vsb.cz/\\n', 'VŠB - Technická univerzita Ostrava - VŠB-TUO - vsb.cz\\nVŠB - Technická univerzita Ostrava už více než 175 let propojuje technické, ekonomické, přírodovědné a umělecké obory v moderních studijních programech, reagujících na skutečné problémy současnosti. Realizujeme základní i aplikovaný výzkum na špičkové úrovni. Díky tradici a spolupráci s průmyslem i řadou domácích a zahraničních univerzit\\nhttps://www.vsb.cz/cs/\\n'], ['Výroční zprávy a ostatní publikace\\nOstrava: VŠB — Technická univerzita Ostrava, 2024. ISBN 978-80-248-4750-4 (on-line). Plán realizace Strategického záměru VŠB-TUO pro rok 2024 \\ufeff\\nhttps://dspace.vsb.cz/handle/10084/139541\\n', 'Výroční zpráva o činnosti VŠB-TUO za rok 2020 - vsb.cz\\nCitace zdrojového dokumentu. IVAN, Igor, Andrea ŠIMONÍKOVÁ a Miroslav NEULINGER, ed. Výroční zpráva o činnosti VŠB-TUO za rok 2020: hlavní část, tabulková příloha, textová příloha. Ostrava: VŠB — Technická univerzita Ostrava, 2021. ISBN 978-80-248-4524-8.\\nhttps://dspace.vsb.cz/handle/10084/143103\\n', 'Výroční zpráva o činnosti VŠB-TUO za rok 2021: Hlavní část, tabulková ...\\nIVAN, Igor ed. Výroční zpráva o činnosti VŠB-TUO za rok 2021: hlavní část, tabulková příloha, VaV příloha, textová příloha. Ostrava: VŠB — Technická univerzita Ostrava, 2022. ISBN 978-80-248-4616-3 (on-line).\\nhttps://dspace.vsb.cz/handle/10084/146273\\n', 'PDF VŠB - Technická univerzita Ostrava - CORE\\nOstrava: VŠB-Technická univerzita Ostrava, Fakulta strojní, Katedra mechanické technologie, 2012, 50 s. ... Na závěr byly srovnány výsledky z experimentálního a ... Shrnutí základních poznatků o procesu CONFORM a DCAP pro lepší pochopení\\nhttps://core.ac.uk/download/pdf/8996509.pdf\\n', 'PDF Všb - Technická Univerzita Ostrava Fakulta Stavební Katedra ... - Core\\n• beru na vědomí, že Vysoká škola báňská - Technická univerzita Ostrava (dále jen VŠB-TUO) má právo nevýdělečně ke své vnitřní potřebě diplomovou práci užít (§ 35 odst. 3). ... Závěr této práce je věnován shrnutí, vyhodnocení získaných výsledků a stanovení\\nhttps://core.ac.uk/download/pdf/161963748.pdf\\n', 'VSB - Technical University of Ostrava - Wikipedia\\nVSB - Technical University of Ostrava (abbreviated VSB-TUO; Czech: Vysoká škola báňská - Technická univerzita Ostrava) is a university in Ostrava in the Moravian-Silesian Region of the Czech Republic.It is a polytechnic university with a long history of high-quality engineering education and research. [2] The first Fraunhofer Innovation Platform for Applied Artificial Intelligence ...\\nhttps://en.wikipedia.org/wiki/VSB_–_Technical_University_of_Ostrava\\n', 'THE World University Rankings 2025: České školy potřebují zlepšit ...\\nMetodika hodnocení zohledňuje pět klíčových oblastí: Výuka (prostředí a kvalita vzdělávání), která má v hodnocení váhu 29,5 %. ... (loni byla na 1001.-1200. místě, letos 1201.-1500.), Západočeská univerzita v Plzni, VŠB-Technická univerzita v Ostrava, Vysoká škola ekonomická a Technická univerzita Liberec ...\\nhttps://aktualne.cvut.cz/zpravy-z-medii/20241010-the-world-university-rankings-2025-ceske-skoly-potrebuji-zlepsit-hlavne\\n', 'VSB - Technical University of Ostrava - Rankings & Reviews ...\\nVSB - Technical University of Ostrava. VSB - Technical University of Ostrava is ranked 1001 in QS World University Rankings by TopUniversities and has an overall score of 4.4 stars, according to student reviews on Studyportals, the best place to find out how students rate their study and living experience at universities from all over the world.\\nhttps://www.mastersportal.com/rankings-reviews/381/vsb-technical-university-of-ostrava.html\\n', \"VSB - Technical University of Ostrava: Rankings - EduRank.org\\nUpdated: February 29, 2024. EduRank. The VSB - Technical University of Ostrava ranked 8th in the Czech Republic, 1243rd in the global 2024 rating, and scored in the TOP 50% across 106 research topics. The VSB - Technical University of Ostrava ranking is based on 3 factors: research output (EduRank's index has 14,212 academic publications and ...\\nhttps://edurank.org/uni/vsb-technical-university-of-ostrava/rankings/\\n\"]]}} dict_keys(['generate_queries'])\n",
      "{'write': {'draft': ['## 1. Úvod\\n\\nVŠB - Technická univerzita Ostrava (VŠB-TUO) je významnou institucí vyššího vzdělávání v České republice, která se nachází v Ostravě, v Moravskoslezském kraji. Tato univerzita je známá svou dlouhou tradicí a vysokou kvalitou vzdělávání a výzkumu v oblasti technických a ekonomických oborů. VŠB-TUO se zaměřuje na propojení technických, ekonomických, přírodovědných a uměleckých oborů v moderních studijních programech, které reagují na aktuální problémy současnosti. Univerzita je také aktivní v oblasti základního a aplikovaného výzkumu, což ji činí důležitým hráčem na poli inovací a technologického pokroku.\\n\\nVŠB-TUO je polytechnická univerzita, která se pyšní více než 175letou historií. Její kořeny sahají až k Báňské akademii v Příbrami, která byla v roce 1945 přesunuta do Ostravy. Díky své tradici a úzké spolupráci s průmyslem i řadou domácích a zahraničních univerzit, VŠB-TUO poskytuje studentům nejen teoretické znalosti, ale i praktické dovednosti potřebné pro úspěšnou kariéru v různých oborech.\\n\\nUniverzita je také domovem první Fraunhoferovy inovační platformy pro aplikovanou umělou inteligenci, což podtrhuje její závazek k inovacím a technologickému rozvoji. VŠB-TUO se tak stává klíčovým centrem pro rozvoj a aplikaci nových technologií v regionu i mimo něj.\\n\\nSeznam odkazů:\\n1. [VSB - Technical University of Ostrava - Wikipedia](https://en.wikipedia.org/wiki/VSB_–_Technical_University_of_Ostrava)\\n2. [VŠB - Technická univerzita Ostrava - VŠB-TUO - vsb.cz](https://www.vsb.cz/cs/)\\n3. [Vysoká škola báňská - Technická univerzita Ostrava - Wikipedie](https://cs.wikipedia.org/wiki/Vysoká_škola_báňská_–_Technická_univerzita_Ostrava)\\n4. [Představení VŠB - Technické univerzity Ostrava - YouTube](https://www.youtube.com/watch?v=qWoCbzWDclM)\\n5. [Hornicko-geologická fakulta, VŠB - Technická univerzita Ostrava](https://www.hgf.vsb.cz/cs/)\\n6. [Kdo jsme - VŠB-TUO - vsb.cz](https://www.vsb.cz/cs/o-univerzite)\\n7. [VŠB - Technical University of Ostrava](http://www.universities.cz/czech-universities/public-universities/-vb-technical-university-of-ostrava)', '## 2. Historie společnosti VŠB - Technická univerzita Ostrava\\n\\nVŠB - Technická univerzita Ostrava, známá také pod zkratkou VŠB-TUO, je jednou z nejvýznamnějších technických univerzit v České republice. Její historie sahá až do roku 1716, kdy byla v Jáchymově založena první hornická akademie. Tato akademie se postupně transformovala a v roce 1849 byla přemístěna do Příbrami, kde se stala známou jako Vysoká škola báňská. V roce 1945, po druhé světové válce, byla škola přemístěna do Ostravy, kde působí dodnes.\\n\\nV průběhu let prošla univerzita několika významnými změnami. V roce 1995 došlo k přejmenování na Vysokou školu báňskou - Technickou univerzitu Ostrava, což reflektovalo její rozšíření o další technické a inženýrské obory. V roce 2012 byl kampus univerzity rozšířen o novou univerzitní aulu, která poskytla potřebné společenské a výukové prostory. V roce 2015 byla na univerzitě zřízena první Fraunhoferova inovační platforma pro aplikovanou umělou inteligenci, což podtrhuje její zaměření na moderní technologie a inovace.\\n\\nDnes je VŠB-TUO uznávána jako polytechnická univerzita s dlouhou tradicí kvalitního inženýrského vzdělávání a výzkumu. Univerzita se neustále rozvíjí a přizpůsobuje se potřebám současného světa, což dokládá její aktivní zapojení do mezinárodních projektů a spolupráce s průmyslovými partnery.\\n\\n### Zdroje:\\n1. [Historické okamžiky VŠB - Technické univerzity Ostrava](https://www.vsb.cz/vyroci170/cs/vyroci-170-let/historicke-okamziky-vsb-tuo/)\\n2. [Historie VŠB - Technické univerzity Ostrava - VŠB-TUO](https://www.vsb.cz/cs/o-univerzite/historie)\\n3. [VSB - Technical University of Ostrava - Wikipedia](https://en.wikipedia.org/wiki/VSB_–_Technical_University_of_Ostrava)\\n4. [Báňská univerzita působí v Ostravě už 75 let](https://ct24.ceskatelevize.cz/clanek/regiony/moravskoslezsky-kraj/banska-univerzita-pusobi-v-ostrave-uz-75-let-jeji-historie-se-ale-pise-uz-temer-dve-stoleti-43092)', '## 3. Organizační struktura\\n\\nVŠB - Technická univerzita Ostrava (VŠB-TUO) je významnou vzdělávací institucí v České republice, která se vyznačuje komplexní organizační strukturou. V čele univerzity stojí rektor, který je hlavním představitelem a zodpovídá za strategické řízení a rozvoj univerzity. Současným rektorem je prof. RNDr. Václav Snášel, CSc. Rektor je podporován týmem prorektorů, kteří se specializují na různé oblasti, jako je věda a výzkum, studijní záležitosti, rozvoj a vnější vztahy.\\n\\nUniverzita je dále rozdělena na několik fakult, z nichž každá má vlastní vedení v čele s děkanem. Například Fakulta stavební je vedena děkanem a proděkany, kteří se starají o rozvoj a propagaci fakulty. Podobně je strukturována i Fakulta strojní a Ekonomická fakulta, které mají své vlastní organizační výbory a oddělení, jako jsou katedry, děkanáty a studijní oddělení.\\n\\nKaždá fakulta je dále členěna na katedry, které se specializují na konkrétní obory a zajišťují výuku a výzkum v dané oblasti. Kromě fakult a kateder univerzita zahrnuje také různá centra a oddělení, která podporují administrativní a technické zázemí, jako je například Centrum bakalářských studií nebo International Office.\\n\\nOrganizační struktura VŠB-TUO je navržena tak, aby efektivně podporovala akademické a výzkumné aktivity univerzity a umožňovala flexibilní reakci na měnící se potřeby vzdělávacího a vědeckého prostředí.\\n\\nSeznam odkazů:\\n1. [Vedení univerzity - VŠB-TUO](https://www.vsb.cz/cs/o-univerzite/organizacni-struktura/vedeni-univerzity)\\n2. [Vedení fakulty - Fakulta stavební - VŠB-TUO](https://www.fast.vsb.cz/cs/o-fakulte/organizacni-struktura/vedeni-fakulty/)\\n3. [Struktura informací zveřejňovaných o VŠB-TUO](https://www.vsb.cz/cs/o-univerzite/uredni-deska/struktura-informaci-o-povinnem-subjektu/)\\n4. [Organizační výbor - Ekonomická fakulta - VŠB-TUO](https://www.ekf.vsb.cz/share/static/ekf/www.ekf.vsb.cz/ves-history/cs/2017/vybor/index.html)\\n5. [O fakultě - Fakulta strojní - VŠB-TUO](https://www.fs.vsb.cz/cs/o-fakulte/)', '## 4. Produkty a služby\\n\\nVŠB - Technická univerzita Ostrava (VŠB-TUO) je významnou institucí, která nabízí široké spektrum produktů a služeb, jež podporují nejen akademickou obec, ale i průmyslové a podnikatelské subjekty. Univerzita se zaměřuje na poskytování kvalitního vzdělání v technických a ekonomických oborech, které jsou úzce propojeny s vědou, výzkumem a kreativní činností. Tato propojení umožňují studentům získat praktické zkušenosti a dovednosti, které jsou nezbytné pro jejich budoucí kariéru.\\n\\nMezi klíčové služby, které VŠB-TUO nabízí, patří podpora transferu technologií, ochrana průmyslového vlastnictví, komercializace a projektová podpora ve fázi proof of concept. Univerzita také poskytuje služby v oblasti ubytování, pronájmu sportovišť a podpory podnikání. Důležitou součástí nabídky je také vzdělávání pro profesní růst a osobní rozvoj, které je dostupné široké veřejnosti.\\n\\nVŠB-TUO se rovněž pyšní svými výzkumnými aktivitami, které jsou realizovány prostřednictvím různých projektů a spoluprací s mezinárodními partnery. Významným prvkem je Národní superpočítačové centrum IT4Innovations, které nabízí unikátní příležitosti pro výzkum a vývoj v oblasti informačních technologií. Fakulta strojní univerzity navíc poskytuje inovativní služby, jako je 3D tisk z kovových slitin, plastů a kompozitních materiálů, a nabízí služby reverzního inženýrství.\\n\\nUniverzita také organizuje veletrh pracovních příležitostí Kariéra+, který je největším svého druhu v regionu a poskytuje studentům a absolventům příležitost navázat kontakty s potenciálními zaměstnavateli. Tímto způsobem VŠB-TUO aktivně podporuje uplatnění svých absolventů na trhu práce.\\n\\nSeznam odkazů:\\n1. https://www.vsb.cz/cs/o-univerzite/sluzby\\n2. http://www.universities.cz/czech-universities/public-universities/-vb-technical-university-of-ostrava\\n3. https://www.fs.vsb.cz/cs/\\n4. https://karieraplus.vsb.cz/export/sites/karieraplus/.content/galerie-souboru/k-nabidka.pdf\\n5. https://vec.vsb.cz/cs/vyzkum-a-vyvoj/projekty/\\n6. https://www.vsb.cz/export/sites/vsb/en/.content/files/brozura-fakulty.pdf', '## 5. Trh a konkurence\\n\\nVŠB - Technická univerzita Ostrava (VŠB-TUO) je významnou institucí v oblasti technického a ekonomického vzdělávání v České republice. Univerzita se nachází v Ostravě, v Moravskoslezském kraji, a je známá svou dlouhou historií a vysokou kvalitou vzdělávání a výzkumu. VŠB-TUO se zaměřuje na propojení vědy, výzkumu, vzdělávání a kreativní činnosti, což ji činí atraktivní pro studenty i výzkumníky z celého světa.\\n\\nNa trhu vysokoškolského vzdělávání v České republice VŠB-TUO čelí konkurenci od dalších technických univerzit, jako je České vysoké učení technické v Praze (ČVUT) a Vysoké učení technické v Brně (VUT). Tyto instituce nabízejí podobné studijní programy a mají také silné vazby na průmysl a výzkum. VŠB-TUO se však odlišuje svou specializací na propojení technických, ekonomických, přírodovědných a uměleckých oborů, což jí umožňuje reagovat na aktuální problémy a potřeby trhu.\\n\\nV mezinárodním měřítku se VŠB-TUO umístila na sdílené 1201. - 1500. pozici v prestižním žebříčku Times Higher Education World University Rankings 2025. Toto umístění svědčí o kvalitě studijního prostředí, výzkumu, internacionalizaci a spolupráci s průmyslem, což jsou klíčové faktory pro konkurenceschopnost na globálním trhu vysokoškolského vzdělávání.\\n\\nVŠB-TUO také aktivně spolupracuje s řadou domácích a zahraničních univerzit a průmyslových partnerů, což jí umožňuje zůstat na špičce v oblasti aplikovaného výzkumu a inovací. Tato spolupráce je klíčová pro udržení konkurenceschopnosti a přilákání talentovaných studentů a výzkumníků.\\n\\nSeznam odkazů:\\n1. http://www.universities.cz/czech-universities/public-universities/-vb-technical-university-of-ostrava\\n2. https://en.wikipedia.org/wiki/VSB_–_Technical_University_of_Ostrava\\n3. https://www.4icu.org/reviews/universities-english/1146.html\\n4. https://dspace.vsb.cz/handle/10084/102000?locale-attribute=en\\n5. https://core.ac.uk/download/pdf/8985794.pdf\\n6. https://core.ac.uk/download/pdf/8990968.pdf\\n7. https://www.vsb.cz/cs/\\n8. https://www.vsb.cz/veda/cs/detail-novinky/?reportId=48063&linkBack=/veda/cs/index.html', '## 6. Finanční analýza\\n\\nVŠB - Technická univerzita Ostrava (VŠB-TUO) je významnou institucí v oblasti technického a ekonomického vzdělávání v České republice. Finanční analýza této univerzity se zaměřuje na její rozpočet, financování a hospodaření, které jsou klíčové pro udržení a rozvoj jejích vzdělávacích a výzkumných aktivit.\\n\\nUniverzita je financována z různých zdrojů, včetně státních dotací, grantů, projektů a příjmů z vlastních aktivit, jako jsou kurzy a školení. Rozpočet VŠB-TUO je pečlivě plánován a řízen, aby bylo zajištěno efektivní využití finančních prostředků. V roce 2023 byl rozpočet univerzity podrobně zpracován a zveřejněn prostřednictvím její ústřední knihovny, což zajišťuje transparentnost a odpovědnost v hospodaření.\\n\\nVŠB-TUO se také aktivně zapojuje do mezinárodních projektů a spoluprací, což přináší další finanční zdroje a příležitosti pro rozvoj. Univerzita se snaží optimalizovat své finanční toky a investice do modernizace infrastruktury a rozvoje nových studijních programů, které reagují na aktuální potřeby trhu práce.\\n\\nCelkově lze říci, že finanční zdraví VŠB-TUO je stabilní, což umožňuje univerzitě pokračovat v poskytování kvalitního vzdělání a výzkumu. Důraz na efektivní řízení financí a strategické investice je klíčovým faktorem pro udržení jejího postavení jako přední technické univerzity v regionu.\\n\\nSeznam odkazů:\\n1. [DSpace VŠB-TUO](https://dspace.vsb.cz/handle/10084/2562)\\n2. [VŠB - Technická univerzita Ostrava - VŠB-TUO - vsb.cz](https://www.vsb.cz/cs/)\\n3. [Rozpočet a financování 2023 - Portaro - library catalog](https://katalog.vsb.cz/records/74e336ec-d587-4e59-bad6-f21c8d2b1af0?locale=en)\\n4. [VSB - Technical University of Ostrava - Wikipedia](https://en.wikipedia.org/wiki/VSB_–_Technical_University_of_Ostrava)', '## 7. Strategie a vize\\n\\nVŠB - Technická univerzita Ostrava (VŠB-TUO) se zaměřuje na rozvoj a implementaci strategických plánů, které podporují její postavení jako přední technické univerzity v České republice a na mezinárodní úrovni. Strategie univerzity je zaměřena na posílení výzkumu, vzdělávání a inovací, což je klíčové pro její dlouhodobý rozvoj a úspěch.\\n\\nJedním z hlavních strategických projektů je projekt REFRESH, který se zaměřuje na vizi SMARAGD. Tento projekt zahrnuje analýzu sociálně-ekonomického dopadu implementace nových vědeckých poznatků a spolupráci s předními výzkumnými organizacemi a inovačními lídry. Cílem je vytvořit prostředí, které podporuje inovace a přispívá k řešení budoucích výzev společnosti.\\n\\nStrategický záměr VŠB-TUO pro období 2021-2027 byl vytvořen s cílem posílit pozici univerzity jako unikátní živé laboratoře s mezinárodně uznávaným výzkumem. Tento záměr zahrnuje strategické priority a cíle, které se zaměřují na rozvoj vzdělávacích a výzkumných aktivit, posílení spolupráce s průmyslem a zlepšení kvality vzdělávání.\\n\\nVize VŠB-TUO je utvářet životy a společnost prostřednictvím vzdělávání, výzkumu a inovací. Univerzita se snaží být lídrem v oblasti technicko-ekonomického vzdělávání a výzkumu, a to jak na národní, tak i mezinárodní úrovni. K dosažení této vize je klíčové udržovat vysokou kvalitu řízení a neustále se přizpůsobovat měnícím se potřebám společnosti a trhu.\\n\\nVŠB-TUO také klade důraz na aplikaci norem ISO v řízení kvality, což je každoročně obhajováno v rámci recertifikačních auditů. Tím univerzita zajišťuje, že její procesy a služby splňují mezinárodní standardy kvality, což je důležité pro udržení jejího postavení na trhu a pro další rozvoj.\\n\\nSeznam odkazů:\\n1. https://www.smaragdova.cz/refresh/\\n2. https://en.wikipedia.org/wiki/VSB_–_Technical_University_of_Ostrava\\n3. https://www.vsb.cz/cs/o-univerzite/management-kvality\\n4. https://www.vsb.cz/cs/o-univerzite/strategicky-zamer/\\n5. https://www.fs.vsb.cz/346/cs/studium/?brancheId=1870\\n6. https://www.fei.vsb.cz/cs/uchazec/studijni-programy/?programmeId=774&academicYearId=64&studyLanguageIds=1\\n7. https://www.ekf.vsb.cz/cs/o-fakulte/uredni-deska/strategicke-zamery/\\n8. https://www.fs.vsb.cz/cs/o-fakulte/uredni-deska/strategicke-zamery/\\n9. https://www.fmt.vsb.cz/export/sites/fmt/cs/o-fakulte/uredni-deska/zamery/Strategicky-zamer-FMT_elektronicka-verze-Final.pdf', '## 8. Firemní kultura a hodnoty\\n\\nVŠB - Technická univerzita Ostrava (VŠB-TUO) je významnou institucí v oblasti technického a ekonomického vzdělávání v České republice. Firemní kultura a hodnoty této univerzity jsou klíčovými prvky, které přispívají k jejímu úspěchu a renomé. Univerzita se zaměřuje na propojení technických, ekonomických, přírodovědných a uměleckých oborů, což se odráží i v její firemní kultuře, která podporuje interdisciplinární spolupráci a inovace.\\n\\nJedním z hlavních pilířů firemní kultury VŠB-TUO je důraz na kvalitu a excelenci ve vzdělávání a výzkumu. Univerzita pravidelně obhajuje aplikaci norem ISO v řízení kvality, což svědčí o jejím závazku k neustálému zlepšování a udržování vysokých standardů. Tento přístup je podporován recertifikačními audity, které zajišťují, že univerzita splňuje mezinárodní standardy kvality.\\n\\nDalším důležitým aspektem firemní kultury je podpora inovací a kreativity. VŠB-TUO se aktivně podílí na základním i aplikovaném výzkumu a spolupracuje s průmyslem i řadou domácích a zahraničních univerzit. Tato spolupráce umožňuje studentům a zaměstnancům univerzity přístup k nejnovějším poznatkům a technologiím, což podporuje jejich profesní růst a rozvoj.\\n\\nHodnoty univerzity zahrnují také etiku a rovné příležitosti. VŠB-TUO klade důraz na akademickou etiku a podporuje rovné příležitosti pro všechny své studenty a zaměstnance. Tímto způsobem univerzita vytváří inkluzivní a respektující prostředí, které je základem pro úspěšnou spolupráci a dosažení společných cílů.\\n\\nVize VŠB-TUO je utvářet životy a společnost prostřednictvím vzdělávání, výzkumu a inovací. Tato vize je úzce propojena s jejími hodnotami a firemní kulturou, které podporují otevřenost, spolupráci a neustálý rozvoj.\\n\\nSeznam odkazů:\\n1. https://en.wikipedia.org/wiki/VSB_–_Technical_University_of_Ostrava\\n2. https://www.vsb.cz/cs/\\n3. https://dspace.vsb.cz/handle/10084/104597\\n4. https://www.vsb.cz/cs/o-univerzite/management-kvality\\n5. https://www.vsb.cz/pracovni-prilezitosti', '## 9. Závěr\\n\\nVŠB - Technická univerzita Ostrava (VŠB-TUO) je významnou institucí v oblasti technického vzdělávání a výzkumu v České republice. Univerzita se pyšní dlouhou historií a tradicí v poskytování kvalitního inženýrského vzdělání, což ji řadí mezi přední polytechnické univerzity v zemi. V posledních letech se VŠB-TUO zaměřuje na rozvoj inovací a aplikovaného výzkumu, což je patrné z její spolupráce s průmyslovými partnery a zapojení do mezinárodních projektů.\\n\\nUniverzita se také aktivně podílí na rozvoji regionu Moravskoslezského kraje, kde sídlí, a to prostřednictvím různých iniciativ zaměřených na podporu místního průmyslu a ekonomiky. VŠB-TUO se snaží být lídrem v oblasti aplikovaného umělé inteligence, což dokládá i existence Fraunhoferovy inovační platformy pro aplikovanou umělou inteligenci na univerzitě.\\n\\nV oblasti hodnocení univerzit se VŠB-TUO umisťuje na předních příčkách v rámci České republiky a je uznávána i na mezinárodní úrovni. Podle různých žebříčků se univerzita pravidelně objevuje mezi nejlepšími institucemi, což svědčí o její kvalitě v oblasti výuky a výzkumu.\\n\\nCelkově lze říci, že VŠB - Technická univerzita Ostrava je dynamickou institucí, která se neustále vyvíjí a přizpůsobuje měnícím se potřebám společnosti a průmyslu. Její strategie a vize jsou zaměřeny na udržení vysoké úrovně vzdělávání a výzkumu, což ji činí atraktivní volbou pro studenty i výzkumníky z celého světa.\\n\\n### Seznam odkazů:\\n1. Výroční zprávy a ostatní publikace. Ostrava: VŠB — Technická univerzita Ostrava, 2024. ISBN 978-80-248-4750-4 (on-line). [Dostupné online](https://dspace.vsb.cz/handle/10084/139541)\\n2. Výroční zpráva o činnosti VŠB-TUO za rok 2020. Ostrava: VŠB — Technická univerzita Ostrava, 2021. ISBN 978-80-248-4524-8. [Dostupné online](https://dspace.vsb.cz/handle/10084/143103)\\n3. Výroční zpráva o činnosti VŠB-TUO za rok 2021. Ostrava: VŠB — Technická univerzita Ostrava, 2022. ISBN 978-80-248-4616-3 (on-line). [Dostupné online](https://dspace.vsb.cz/handle/10084/146273)\\n4. VSB - Technical University of Ostrava - Wikipedia. [Dostupné online](https://en.wikipedia.org/wiki/VSB_–_Technical_University_of_Ostrava)\\n5. VSB - Technical University of Ostrava - Rankings & Reviews. [Dostupné online](https://www.mastersportal.com/rankings-reviews/381/vsb-technical-university-of-ostrava.html)\\n6. VSB - Technical University of Ostrava: Rankings - EduRank.org. [Dostupné online](https://edurank.org/uni/vsb-technical-university-of-ostrava/rankings/)']}} dict_keys(['write'])\n",
      "{'css_node': {'css': 'Zde je příklad CSS stylu pro webovou stránku, která zobrazuje report o firmě VŠB - Technická univerzita Ostrava. Tento styl se zaměřuje na základní formátování, aby byla stránka přehledná a profesionální.\\n\\n```css\\n/* Reset základních stylů pro konzistentní vzhled napříč prohlížeči */\\n* {\\n    margin: 0;\\n    padding: 0;\\n    box-sizing: border-box;\\n}\\n\\n/* Základní nastavení pro tělo stránky */\\nbody {\\n    font-family: Arial, sans-serif;\\n    line-height: 1.6;\\n    color: #333;\\n    background-color: #f4f4f9;\\n    padding: 20px;\\n}\\n\\n/* Hlavní nadpis stránky */\\nh1 {\\n    font-size: 2.5em;\\n    color: #0056b3;\\n    text-align: center;\\n    margin-bottom: 20px;\\n}\\n\\n/* Nadpisy jednotlivých sekcí */\\nh2 {\\n    font-size: 2em;\\n    color: #0056b3;\\n    margin-top: 20px;\\n    margin-bottom: 10px;\\n    border-bottom: 2px solid #0056b3;\\n    padding-bottom: 5px;\\n}\\n\\n/* Odstavec textu */\\np {\\n    margin-bottom: 15px;\\n}\\n\\n/* Kontejner pro obsah stránky */\\n.container {\\n    max-width: 800px;\\n    margin: 0 auto;\\n    background-color: #fff;\\n    padding: 20px;\\n    box-shadow: 0 0 10px rgba(0, 0, 0, 0.1);\\n    border-radius: 5px;\\n}\\n\\n/* Seznamy */\\nul {\\n    list-style-type: disc;\\n    margin-left: 20px;\\n    margin-bottom: 15px;\\n}\\n\\nol {\\n    list-style-type: decimal;\\n    margin-left: 20px;\\n    margin-bottom: 15px;\\n}\\n\\n/* Odkazy */\\na {\\n    color: #0056b3;\\n    text-decoration: none;\\n}\\n\\na:hover {\\n    text-decoration: underline;\\n}\\n\\n/* Tabulky */\\ntable {\\n    width: 100%;\\n    border-collapse: collapse;\\n    margin-bottom: 20px;\\n}\\n\\nth, td {\\n    border: 1px solid #ddd;\\n    padding: 8px;\\n    text-align: left;\\n}\\n\\nth {\\n    background-color: #0056b3;\\n    color: white;\\n}\\n\\n/* Responsivní design */\\n@media (max-width: 600px) {\\n    body {\\n        padding: 10px;\\n    }\\n\\n    .container {\\n        padding: 15px;\\n    }\\n\\n    h1 {\\n        font-size: 2em;\\n    }\\n\\n    h2 {\\n        font-size: 1.5em;\\n    }\\n}\\n```\\n\\nTento CSS styl poskytuje základní formátování pro nadpisy, odstavce, seznamy, odkazy a tabulky. Používá jednoduché barvy a rozvržení, které zajišťují čitelnost a profesionální vzhled. Můžete jej dále přizpůsobit podle konkrétních potřeb a preferencí.'}} dict_keys(['css_node'])\n",
      "{'html_node': {'html': '```html\\n<!DOCTYPE html>\\n<html lang=\"cs\">\\n<head>\\n    <meta charset=\"UTF-8\">\\n    <meta name=\"viewport\" content=\"width=device-width, initial-scale=1.0\">\\n    <title>VŠB - Technická univerzita Ostrava</title>\\n    <style>\\n        /* Reset základních stylů pro konzistentní vzhled napříč prohlížeči */\\n        * {\\n            margin: 0;\\n            padding: 0;\\n            box-sizing: border-box;\\n        }\\n\\n        /* Základní nastavení pro tělo stránky */\\n        body {\\n            font-family: Arial, sans-serif;\\n            line-height: 1.6;\\n            color: #333;\\n            background-color: #f4f4f9;\\n            padding: 20px;\\n        }\\n\\n        /* Hlavní nadpis stránky */\\n        h1 {\\n            font-size: 2.5em;\\n            color: #0056b3;\\n            text-align: center;\\n            margin-bottom: 20px;\\n        }\\n\\n        /* Nadpisy jednotlivých sekcí */\\n        h2 {\\n            font-size: 2em;\\n            color: #0056b3;\\n            margin-top: 20px;\\n            margin-bottom: 10px;\\n            border-bottom: 2px solid #0056b3;\\n            padding-bottom: 5px;\\n        }\\n\\n        /* Odstavec textu */\\n        p {\\n            margin-bottom: 15px;\\n        }\\n\\n        /* Kontejner pro obsah stránky */\\n        .container {\\n            max-width: 800px;\\n            margin: 0 auto;\\n            background-color: #fff;\\n            padding: 20px;\\n            box-shadow: 0 0 10px rgba(0, 0, 0, 0.1);\\n            border-radius: 5px;\\n        }\\n\\n        /* Seznamy */\\n        ul {\\n            list-style-type: disc;\\n            margin-left: 20px;\\n            margin-bottom: 15px;\\n        }\\n\\n        ol {\\n            list-style-type: decimal;\\n            margin-left: 20px;\\n            margin-bottom: 15px;\\n        }\\n\\n        /* Odkazy */\\n        a {\\n            color: #0056b3;\\n            text-decoration: none;\\n        }\\n\\n        a:hover {\\n            text-decoration: underline;\\n        }\\n\\n        /* Tabulky */\\n        table {\\n            width: 100%;\\n            border-collapse: collapse;\\n            margin-bottom: 20px;\\n        }\\n\\n        th, td {\\n            border: 1px solid #ddd;\\n            padding: 8px;\\n            text-align: left;\\n        }\\n\\n        th {\\n            background-color: #0056b3;\\n            color: white;\\n        }\\n\\n        /* Responsivní design */\\n        @media (max-width: 600px) {\\n            body {\\n                padding: 10px;\\n            }\\n\\n            .container {\\n                padding: 15px;\\n            }\\n\\n            h1 {\\n                font-size: 2em;\\n            }\\n\\n            h2 {\\n                font-size: 1.5em;\\n            }\\n        }\\n    </style>\\n</head>\\n<body>\\n    <div class=\"container\">\\n        <h1>VŠB - Technická univerzita Ostrava</h1>\\n        \\n<div class=\"container\">\\n    <h2>1. Úvod</h2>\\n    <p>VŠB - Technická univerzita Ostrava (VŠB-TUO) je významnou institucí vyššího vzdělávání v České republice, která se nachází v Ostravě, v Moravskoslezském kraji. Tato univerzita je známá svou dlouhou tradicí a vysokou kvalitou vzdělávání a výzkumu v oblasti technických a ekonomických oborů. VŠB-TUO se zaměřuje na propojení technických, ekonomických, přírodovědných a uměleckých oborů v moderních studijních programech, které reagují na aktuální problémy současnosti. Univerzita je také aktivní v oblasti základního a aplikovaného výzkumu, což ji činí důležitým hráčem na poli inovací a technologického pokroku.</p>\\n    <p>VŠB-TUO je polytechnická univerzita, která se pyšní více než 175letou historií. Její kořeny sahají až k Báňské akademii v Příbrami, která byla v roce 1945 přesunuta do Ostravy. Díky své tradici a úzké spolupráci s průmyslem i řadou domácích a zahraničních univerzit, VŠB-TUO poskytuje studentům nejen teoretické znalosti, ale i praktické dovednosti potřebné pro úspěšnou kariéru v různých oborech.</p>\\n    <p>Univerzita je také domovem první Fraunhoferovy inovační platformy pro aplikovanou umělou inteligenci, což podtrhuje její závazek k inovacím a technologickému rozvoji. VŠB-TUO se tak stává klíčovým centrem pro rozvoj a aplikaci nových technologií v regionu i mimo něj.</p>\\n    <ul>\\n        <li><a href=\"https://en.wikipedia.org/wiki/VSB_–_Technical_University_of_Ostrava\">VSB - Technical University of Ostrava - Wikipedia</a></li>\\n        <li><a href=\"https://www.vsb.cz/cs/\">VŠB - Technická univerzita Ostrava - VŠB-TUO - vsb.cz</a></li>\\n        <li><a href=\"https://cs.wikipedia.org/wiki/Vysoká_škola_báňská_–_Technická_univerzita_Ostrava\">Vysoká škola báňská - Technická univerzita Ostrava - Wikipedie</a></li>\\n        <li><a href=\"https://www.youtube.com/watch?v=qWoCbzWDclM\">Představení VŠB - Technické univerzity Ostrava - YouTube</a></li>\\n        <li><a href=\"https://www.hgf.vsb.cz/cs/\">Hornicko-geologická fakulta, VŠB - Technická univerzita Ostrava</a></li>\\n        <li><a href=\"https://www.vsb.cz/cs/o-univerzite\">Kdo jsme - VŠB-TUO - vsb.cz</a></li>\\n        <li><a href=\"http://www.universities.cz/czech-universities/public-universities/-vb-technical-university-of-ostrava\">VŠB - Technical University of Ostrava</a></li>\\n    </ul>\\n</div>\\n\\n\\n\\n        \\n<div class=\"container\">\\n    <h2>2. Historie společnosti VŠB - Technická univerzita Ostrava</h2>\\n    <p>VŠB - Technická univerzita Ostrava, známá také pod zkratkou VŠB-TUO, je jednou z nejvýznamnějších technických univerzit v České republice. Její historie sahá až do roku 1716, kdy byla v Jáchymově založena první hornická akademie. Tato akademie se postupně transformovala a v roce 1849 byla přemístěna do Příbrami, kde se stala známou jako Vysoká škola báňská. V roce 1945, po druhé světové válce, byla škola přemístěna do Ostravy, kde působí dodnes.</p>\\n    <p>V průběhu let prošla univerzita několika významnými změnami. V roce 1995 došlo k přejmenování na Vysokou školu báňskou - Technickou univerzitu Ostrava, což reflektovalo její rozšíření o další technické a inženýrské obory. V roce 2012 byl kampus univerzity rozšířen o novou univerzitní aulu, která poskytla potřebné společenské a výukové prostory. V roce 2015 byla na univerzitě zřízena první Fraunhoferova inovační platforma pro aplikovanou umělou inteligenci, což podtrhuje její zaměření na moderní technologie a inovace.</p>\\n    <p>Dnes je VŠB-TUO uznávána jako polytechnická univerzita s dlouhou tradicí kvalitního inženýrského vzdělávání a výzkumu. Univerzita se neustále rozvíjí a přizpůsobuje se potřebám současného světa, což dokládá její aktivní zapojení do mezinárodních projektů a spolupráce s průmyslovými partnery.</p>\\n    <h3>Zdroje:</h3>\\n    <ol>\\n        <li><a href=\"https://www.vsb.cz/vyroci170/cs/vyroci-170-let/historicke-okamziky-vsb-tuo/\">Historické okamžiky VŠB - Technické univerzity Ostrava</a></li>\\n        <li><a href=\"https://www.vsb.cz/cs/o-univerzite/historie\">Historie VŠB - Technické univerzity Ostrava - VŠB-TUO</a></li>\\n        <li><a href=\"https://en.wikipedia.org/wiki/VSB_–_Technical_University_of_Ostrava\">VSB - Technical University of Ostrava - Wikipedia</a></li>\\n        <li><a href=\"https://ct24.ceskatelevize.cz/clanek/regiony/moravskoslezsky-kraj/banska-univerzita-pusobi-v-ostrave-uz-75-let-jeji-historie-se-ale-pise-uz-temer-dve-stoleti-43092\">Báňská univerzita působí v Ostravě už 75 let</a></li>\\n    </ol>\\n</div>\\n\\n\\n\\n        \\n<div class=\"container\">\\n    <h2>3. Organizační struktura</h2>\\n    <p>VŠB - Technická univerzita Ostrava (VŠB-TUO) je významnou vzdělávací institucí v České republice, která se vyznačuje komplexní organizační strukturou. V čele univerzity stojí rektor, který je hlavním představitelem a zodpovídá za strategické řízení a rozvoj univerzity. Současným rektorem je prof. RNDr. Václav Snášel, CSc. Rektor je podporován týmem prorektorů, kteří se specializují na různé oblasti, jako je věda a výzkum, studijní záležitosti, rozvoj a vnější vztahy.</p>\\n    <p>Univerzita je dále rozdělena na několik fakult, z nichž každá má vlastní vedení v čele s děkanem. Například Fakulta stavební je vedena děkanem a proděkany, kteří se starají o rozvoj a propagaci fakulty. Podobně je strukturována i Fakulta strojní a Ekonomická fakulta, které mají své vlastní organizační výbory a oddělení, jako jsou katedry, děkanáty a studijní oddělení.</p>\\n    <p>Každá fakulta je dále členěna na katedry, které se specializují na konkrétní obory a zajišťují výuku a výzkum v dané oblasti. Kromě fakult a kateder univerzita zahrnuje také různá centra a oddělení, která podporují administrativní a technické zázemí, jako je například Centrum bakalářských studií nebo International Office.</p>\\n    <p>Organizační struktura VŠB-TUO je navržena tak, aby efektivně podporovala akademické a výzkumné aktivity univerzity a umožňovala flexibilní reakci na měnící se potřeby vzdělávacího a vědeckého prostředí.</p>\\n    <ul>\\n        <li><a href=\"https://www.vsb.cz/cs/o-univerzite/organizacni-struktura/vedeni-univerzity\">Vedení univerzity - VŠB-TUO</a></li>\\n        <li><a href=\"https://www.fast.vsb.cz/cs/o-fakulte/organizacni-struktura/vedeni-fakulty/\">Vedení fakulty - Fakulta stavební - VŠB-TUO</a></li>\\n        <li><a href=\"https://www.vsb.cz/cs/o-univerzite/uredni-deska/struktura-informaci-o-povinnem-subjektu/\">Struktura informací zveřejňovaných o VŠB-TUO</a></li>\\n        <li><a href=\"https://www.ekf.vsb.cz/share/static/ekf/www.ekf.vsb.cz/ves-history/cs/2017/vybor/index.html\">Organizační výbor - Ekonomická fakulta - VŠB-TUO</a></li>\\n        <li><a href=\"https://www.fs.vsb.cz/cs/o-fakulte/\">O fakultě - Fakulta strojní - VŠB-TUO</a></li>\\n    </ul>\\n</div>\\n\\n\\n\\n        \\n<div class=\"container\">\\n    <h2>4. Produkty a služby</h2>\\n    <p>VŠB - Technická univerzita Ostrava (VŠB-TUO) je významnou institucí, která nabízí široké spektrum produktů a služeb, jež podporují nejen akademickou obec, ale i průmyslové a podnikatelské subjekty. Univerzita se zaměřuje na poskytování kvalitního vzdělání v technických a ekonomických oborech, které jsou úzce propojeny s vědou, výzkumem a kreativní činností. Tato propojení umožňují studentům získat praktické zkušenosti a dovednosti, které jsou nezbytné pro jejich budoucí kariéru.</p>\\n    <p>Mezi klíčové služby, které VŠB-TUO nabízí, patří podpora transferu technologií, ochrana průmyslového vlastnictví, komercializace a projektová podpora ve fázi proof of concept. Univerzita také poskytuje služby v oblasti ubytování, pronájmu sportovišť a podpory podnikání. Důležitou součástí nabídky je také vzdělávání pro profesní růst a osobní rozvoj, které je dostupné široké veřejnosti.</p>\\n    <p>VŠB-TUO se rovněž pyšní svými výzkumnými aktivitami, které jsou realizovány prostřednictvím různých projektů a spoluprací s mezinárodními partnery. Významným prvkem je Národní superpočítačové centrum IT4Innovations, které nabízí unikátní příležitosti pro výzkum a vývoj v oblasti informačních technologií. Fakulta strojní univerzity navíc poskytuje inovativní služby, jako je 3D tisk z kovových slitin, plastů a kompozitních materiálů, a nabízí služby reverzního inženýrství.</p>\\n    <p>Univerzita také organizuje veletrh pracovních příležitostí Kariéra+, který je největším svého druhu v regionu a poskytuje studentům a absolventům příležitost navázat kontakty s potenciálními zaměstnavateli. Tímto způsobem VŠB-TUO aktivně podporuje uplatnění svých absolventů na trhu práce.</p>\\n    <ul>\\n        <li><a href=\"https://www.vsb.cz/cs/o-univerzite/sluzby\" target=\"_blank\">Služby VŠB-TUO</a></li>\\n        <li><a href=\"http://www.universities.cz/czech-universities/public-universities/-vb-technical-university-of-ostrava\" target=\"_blank\">VŠB-TUO na Universities.cz</a></li>\\n        <li><a href=\"https://www.fs.vsb.cz/cs/\" target=\"_blank\">Fakulta strojní</a></li>\\n        <li><a href=\"https://karieraplus.vsb.cz/export/sites/karieraplus/.content/galerie-souboru/k-nabidka.pdf\" target=\"_blank\">Kariéra+ nabídka</a></li>\\n        <li><a href=\"https://vec.vsb.cz/cs/vyzkum-a-vyvoj/projekty/\" target=\"_blank\">Výzkum a vývoj</a></li>\\n        <li><a href=\"https://www.vsb.cz/export/sites/vsb/en/.content/files/brozura-fakulty.pdf\" target=\"_blank\">Brožura fakulty</a></li>\\n    </ul>\\n</div>\\n\\n\\n\\n        \\n<div class=\"container\">\\n    <h2>5. Trh a konkurence</h2>\\n    <p>VŠB - Technická univerzita Ostrava (VŠB-TUO) je významnou institucí v oblasti technického a ekonomického vzdělávání v České republice. Univerzita se nachází v Ostravě, v Moravskoslezském kraji, a je známá svou dlouhou historií a vysokou kvalitou vzdělávání a výzkumu. VŠB-TUO se zaměřuje na propojení vědy, výzkumu, vzdělávání a kreativní činnosti, což ji činí atraktivní pro studenty i výzkumníky z celého světa.</p>\\n    <p>Na trhu vysokoškolského vzdělávání v České republice VŠB-TUO čelí konkurenci od dalších technických univerzit, jako je <a href=\"https://www.cvut.cz/\">České vysoké učení technické v Praze (ČVUT)</a> a <a href=\"https://www.vut.cz/\">Vysoké učení technické v Brně (VUT)</a>. Tyto instituce nabízejí podobné studijní programy a mají také silné vazby na průmysl a výzkum. VŠB-TUO se však odlišuje svou specializací na propojení technických, ekonomických, přírodovědných a uměleckých oborů, což jí umožňuje reagovat na aktuální problémy a potřeby trhu.</p>\\n    <p>V mezinárodním měřítku se VŠB-TUO umístila na sdílené 1201. - 1500. pozici v prestižním žebříčku Times Higher Education World University Rankings 2025. Toto umístění svědčí o kvalitě studijního prostředí, výzkumu, internacionalizaci a spolupráci s průmyslem, což jsou klíčové faktory pro konkurenceschopnost na globálním trhu vysokoškolského vzdělávání.</p>\\n    <p>VŠB-TUO také aktivně spolupracuje s řadou domácích a zahraničních univerzit a průmyslových partnerů, což jí umožňuje zůstat na špičce v oblasti aplikovaného výzkumu a inovací. Tato spolupráce je klíčová pro udržení konkurenceschopnosti a přilákání talentovaných studentů a výzkumníků.</p>\\n    <ul>\\n        <li><a href=\"http://www.universities.cz/czech-universities/public-universities/-vb-technical-university-of-ostrava\">Odkaz 1</a></li>\\n        <li><a href=\"https://en.wikipedia.org/wiki/VSB_–_Technical_University_of_Ostrava\">Odkaz 2</a></li>\\n        <li><a href=\"https://www.4icu.org/reviews/universities-english/1146.html\">Odkaz 3</a></li>\\n        <li><a href=\"https://dspace.vsb.cz/handle/10084/102000?locale-attribute=en\">Odkaz 4</a></li>\\n        <li><a href=\"https://core.ac.uk/download/pdf/8985794.pdf\">Odkaz 5</a></li>\\n        <li><a href=\"https://core.ac.uk/download/pdf/8990968.pdf\">Odkaz 6</a></li>\\n        <li><a href=\"https://www.vsb.cz/cs/\">Odkaz 7</a></li>\\n        <li><a href=\"https://www.vsb.cz/veda/cs/detail-novinky/?reportId=48063&linkBack=/veda/cs/index.html\">Odkaz 8</a></li>\\n    </ul>\\n</div>\\n\\n\\n\\n        \\n<div class=\"container\">\\n    <h2>6. Finanční analýza</h2>\\n    <p>VŠB - Technická univerzita Ostrava (VŠB-TUO) je významnou institucí v oblasti technického a ekonomického vzdělávání v České republice. Finanční analýza této univerzity se zaměřuje na její rozpočet, financování a hospodaření, které jsou klíčové pro udržení a rozvoj jejích vzdělávacích a výzkumných aktivit.</p>\\n    <p>Univerzita je financována z různých zdrojů, včetně státních dotací, grantů, projektů a příjmů z vlastních aktivit, jako jsou kurzy a školení. Rozpočet VŠB-TUO je pečlivě plánován a řízen, aby bylo zajištěno efektivní využití finančních prostředků. V roce 2023 byl rozpočet univerzity podrobně zpracován a zveřejněn prostřednictvím její ústřední knihovny, což zajišťuje transparentnost a odpovědnost v hospodaření.</p>\\n    <p>VŠB-TUO se také aktivně zapojuje do mezinárodních projektů a spoluprací, což přináší další finanční zdroje a příležitosti pro rozvoj. Univerzita se snaží optimalizovat své finanční toky a investice do modernizace infrastruktury a rozvoje nových studijních programů, které reagují na aktuální potřeby trhu práce.</p>\\n    <p>Celkově lze říci, že finanční zdraví VŠB-TUO je stabilní, což umožňuje univerzitě pokračovat v poskytování kvalitního vzdělání a výzkumu. Důraz na efektivní řízení financí a strategické investice je klíčovým faktorem pro udržení jejího postavení jako přední technické univerzity v regionu.</p>\\n    <h3>Seznam odkazů:</h3>\\n    <ol>\\n        <li><a href=\"https://dspace.vsb.cz/handle/10084/2562\" target=\"_blank\">DSpace VŠB-TUO</a></li>\\n        <li><a href=\"https://www.vsb.cz/cs/\" target=\"_blank\">VŠB - Technická univerzita Ostrava - VŠB-TUO - vsb.cz</a></li>\\n        <li><a href=\"https://katalog.vsb.cz/records/74e336ec-d587-4e59-bad6-f21c8d2b1af0?locale=en\" target=\"_blank\">Rozpočet a financování 2023 - Portaro - library catalog</a></li>\\n        <li><a href=\"https://en.wikipedia.org/wiki/VSB_–_Technical_University_of_Ostrava\" target=\"_blank\">VSB - Technical University of Ostrava - Wikipedia</a></li>\\n    </ol>\\n</div>\\n\\n\\n\\n        \\n<div class=\"container\">\\n    <h2>7. Strategie a vize</h2>\\n    <p>VŠB - Technická univerzita Ostrava (VŠB-TUO) se zaměřuje na rozvoj a implementaci strategických plánů, které podporují její postavení jako přední technické univerzity v České republice a na mezinárodní úrovni. Strategie univerzity je zaměřena na posílení výzkumu, vzdělávání a inovací, což je klíčové pro její dlouhodobý rozvoj a úspěch.</p>\\n    <p>Jedním z hlavních strategických projektů je projekt REFRESH, který se zaměřuje na vizi SMARAGD. Tento projekt zahrnuje analýzu sociálně-ekonomického dopadu implementace nových vědeckých poznatků a spolupráci s předními výzkumnými organizacemi a inovačními lídry. Cílem je vytvořit prostředí, které podporuje inovace a přispívá k řešení budoucích výzev společnosti.</p>\\n    <p>Strategický záměr VŠB-TUO pro období 2021-2027 byl vytvořen s cílem posílit pozici univerzity jako unikátní živé laboratoře s mezinárodně uznávaným výzkumem. Tento záměr zahrnuje strategické priority a cíle, které se zaměřují na rozvoj vzdělávacích a výzkumných aktivit, posílení spolupráce s průmyslem a zlepšení kvality vzdělávání.</p>\\n    <p>Vize VŠB-TUO je utvářet životy a společnost prostřednictvím vzdělávání, výzkumu a inovací. Univerzita se snaží být lídrem v oblasti technicko-ekonomického vzdělávání a výzkumu, a to jak na národní, tak i mezinárodní úrovni. K dosažení této vize je klíčové udržovat vysokou kvalitu řízení a neustále se přizpůsobovat měnícím se potřebám společnosti a trhu.</p>\\n    <p>VŠB-TUO také klade důraz na aplikaci norem ISO v řízení kvality, což je každoročně obhajováno v rámci recertifikačních auditů. Tím univerzita zajišťuje, že její procesy a služby splňují mezinárodní standardy kvality, což je důležité pro udržení jejího postavení na trhu a pro další rozvoj.</p>\\n    <ul>\\n        <li><a href=\"https://www.smaragdova.cz/refresh/\">Projekt REFRESH</a></li>\\n        <li><a href=\"https://en.wikipedia.org/wiki/VSB_–_Technical_University_of_Ostrava\">Wikipedia - VŠB-TUO</a></li>\\n        <li><a href=\"https://www.vsb.cz/cs/o-univerzite/management-kvality\">Management kvality</a></li>\\n        <li><a href=\"https://www.vsb.cz/cs/o-univerzite/strategicky-zamer/\">Strategický záměr</a></li>\\n        <li><a href=\"https://www.fs.vsb.cz/346/cs/studium/?brancheId=1870\">Studijní programy FS</a></li>\\n        <li><a href=\"https://www.fei.vsb.cz/cs/uchazec/studijni-programy/?programmeId=774&academicYearId=64&studyLanguageIds=1\">Studijní programy FEI</a></li>\\n        <li><a href=\"https://www.ekf.vsb.cz/cs/o-fakulte/uredni-deska/strategicke-zamery/\">Strategické záměry EKF</a></li>\\n        <li><a href=\"https://www.fs.vsb.cz/cs/o-fakulte/uredni-deska/strategicke-zamery/\">Strategické záměry FS</a></li>\\n        <li><a href=\"https://www.fmt.vsb.cz/export/sites/fmt/cs/o-fakulte/uredni-deska/zamery/Strategicky-zamer-FMT_elektronicka-verze-Final.pdf\">Strategický záměr FMT</a></li>\\n    </ul>\\n</div>\\n\\n\\n\\n        \\n<div class=\"container\">\\n    <h2>8. Firemní kultura a hodnoty</h2>\\n    <p>VŠB - Technická univerzita Ostrava (VŠB-TUO) je významnou institucí v oblasti technického a ekonomického vzdělávání v České republice. Firemní kultura a hodnoty této univerzity jsou klíčovými prvky, které přispívají k jejímu úspěchu a renomé. Univerzita se zaměřuje na propojení technických, ekonomických, přírodovědných a uměleckých oborů, což se odráží i v její firemní kultuře, která podporuje interdisciplinární spolupráci a inovace.</p>\\n    <p>Jedním z hlavních pilířů firemní kultury VŠB-TUO je důraz na kvalitu a excelenci ve vzdělávání a výzkumu. Univerzita pravidelně obhajuje aplikaci norem ISO v řízení kvality, což svědčí o jejím závazku k neustálému zlepšování a udržování vysokých standardů. Tento přístup je podporován recertifikačními audity, které zajišťují, že univerzita splňuje mezinárodní standardy kvality.</p>\\n    <p>Dalším důležitým aspektem firemní kultury je podpora inovací a kreativity. VŠB-TUO se aktivně podílí na základním i aplikovaném výzkumu a spolupracuje s průmyslem i řadou domácích a zahraničních univerzit. Tato spolupráce umožňuje studentům a zaměstnancům univerzity přístup k nejnovějším poznatkům a technologiím, což podporuje jejich profesní růst a rozvoj.</p>\\n    <p>Hodnoty univerzity zahrnují také etiku a rovné příležitosti. VŠB-TUO klade důraz na akademickou etiku a podporuje rovné příležitosti pro všechny své studenty a zaměstnance. Tímto způsobem univerzita vytváří inkluzivní a respektující prostředí, které je základem pro úspěšnou spolupráci a dosažení společných cílů.</p>\\n    <p>Vize VŠB-TUO je utvářet životy a společnost prostřednictvím vzdělávání, výzkumu a inovací. Tato vize je úzce propojena s jejími hodnotami a firemní kulturou, které podporují otevřenost, spolupráci a neustálý rozvoj.</p>\\n    <ul>\\n        <li><a href=\"https://en.wikipedia.org/wiki/VSB_–_Technical_University_of_Ostrava\" target=\"_blank\">Wikipedia: VSB – Technical University of Ostrava</a></li>\\n        <li><a href=\"https://www.vsb.cz/cs/\" target=\"_blank\">Oficiální web VŠB-TUO</a></li>\\n        <li><a href=\"https://dspace.vsb.cz/handle/10084/104597\" target=\"_blank\">DSpace VŠB-TUO</a></li>\\n        <li><a href=\"https://www.vsb.cz/cs/o-univerzite/management-kvality\" target=\"_blank\">Management kvality VŠB-TUO</a></li>\\n        <li><a href=\"https://www.vsb.cz/pracovni-prilezitosti\" target=\"_blank\">Pracovní příležitosti VŠB-TUO</a></li>\\n    </ul>\\n</div>\\n\\n\\n\\n        \\n<div class=\"container\">\\n    <h2>9. Závěr</h2>\\n    <p>VŠB - Technická univerzita Ostrava (VŠB-TUO) je významnou institucí v oblasti technického vzdělávání a výzkumu v České republice. Univerzita se pyšní dlouhou historií a tradicí v poskytování kvalitního inženýrského vzdělání, což ji řadí mezi přední polytechnické univerzity v zemi. V posledních letech se VŠB-TUO zaměřuje na rozvoj inovací a aplikovaného výzkumu, což je patrné z její spolupráce s průmyslovými partnery a zapojení do mezinárodních projektů.</p>\\n    <p>Univerzita se také aktivně podílí na rozvoji regionu Moravskoslezského kraje, kde sídlí, a to prostřednictvím různých iniciativ zaměřených na podporu místního průmyslu a ekonomiky. VŠB-TUO se snaží být lídrem v oblasti aplikovaného umělé inteligence, což dokládá i existence Fraunhoferovy inovační platformy pro aplikovanou umělou inteligenci na univerzitě.</p>\\n    <p>V oblasti hodnocení univerzit se VŠB-TUO umisťuje na předních příčkách v rámci České republiky a je uznávána i na mezinárodní úrovni. Podle různých žebříčků se univerzita pravidelně objevuje mezi nejlepšími institucemi, což svědčí o její kvalitě v oblasti výuky a výzkumu.</p>\\n    <p>Celkově lze říci, že VŠB - Technická univerzita Ostrava je dynamickou institucí, která se neustále vyvíjí a přizpůsobuje měnícím se potřebám společnosti a průmyslu. Její strategie a vize jsou zaměřeny na udržení vysoké úrovně vzdělávání a výzkumu, což ji činí atraktivní volbou pro studenty i výzkumníky z celého světa.</p>\\n    <h3>Seznam odkazů:</h3>\\n    <ol>\\n        <li>Výroční zprávy a ostatní publikace. Ostrava: VŠB — Technická univerzita Ostrava, 2024. ISBN 978-80-248-4750-4 (on-line). <a href=\"https://dspace.vsb.cz/handle/10084/139541\">Dostupné online</a></li>\\n        <li>Výroční zpráva o činnosti VŠB-TUO za rok 2020. Ostrava: VŠB — Technická univerzita Ostrava, 2021. ISBN 978-80-248-4524-8. <a href=\"https://dspace.vsb.cz/handle/10084/143103\">Dostupné online</a></li>\\n        <li>Výroční zpráva o činnosti VŠB-TUO za rok 2021. Ostrava: VŠB — Technická univerzita Ostrava, 2022. ISBN 978-80-248-4616-3 (on-line). <a href=\"https://dspace.vsb.cz/handle/10084/146273\">Dostupné online</a></li>\\n        <li>VSB - Technical University of Ostrava - Wikipedia. <a href=\"https://en.wikipedia.org/wiki/VSB_–_Technical_University_of_Ostrava\">Dostupné online</a></li>\\n        <li>VSB - Technical University of Ostrava - Rankings & Reviews. <a href=\"https://www.mastersportal.com/rankings-reviews/381/vsb-technical-university-of-ostrava.html\">Dostupné online</a></li>\\n        <li>VSB - Technical University of Ostrava: Rankings - EduRank.org. <a href=\"https://edurank.org/uni/vsb-technical-university-of-ostrava/rankings/\">Dostupné online</a></li>\\n    </ol>\\n</div>\\n\\n\\n\\n    </div>\\n</body>\\n</html>\\n```'}} dict_keys(['html_node'])\n",
      "{'store': {'task': 'hotovo'}} dict_keys(['store'])\n"
     ]
    }
   ],
   "source": [
    "import time\n",
    "\n",
    "thread = {\"configurable\": {\"thread_id\": \"1\"}}\n",
    "for s in graph.stream({\n",
    "    'task': \"VŠB - Technická univerzita Ostrava\",\n",
    "    \"plan_max_revisions\": 0,\n",
    "    \"plan_revision_number\": 0,\n",
    "    \"research_max_revisions\": 0,\n",
    "    \"research_revision_number\": 0,\n",
    "    \"draft_max_revisions\": 0,\n",
    "    \"draft_revision_number\": 0,\n",
    "}, thread):\n",
    "    print(s, s.keys())    \n",
    "    time.sleep(10)\n",
    "    "
   ]
  }
 ],
 "metadata": {
  "kernelspec": {
   "display_name": "Python 3",
   "language": "python",
   "name": "python3"
  },
  "language_info": {
   "codemirror_mode": {
    "name": "ipython",
    "version": 3
   },
   "file_extension": ".py",
   "mimetype": "text/x-python",
   "name": "python",
   "nbconvert_exporter": "python",
   "pygments_lexer": "ipython3",
   "version": "3.10.11"
  }
 },
 "nbformat": 4,
 "nbformat_minor": 2
}
